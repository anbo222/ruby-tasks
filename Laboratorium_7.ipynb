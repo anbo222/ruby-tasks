{
 "cells": [
  {
   "cell_type": "markdown",
   "metadata": {},
   "source": [
    "# ActiveRecord"
   ]
  },
  {
   "cell_type": "markdown",
   "metadata": {},
   "source": [
    "Zanim przystąpimy do pracy, musimy skonfigurować bazę danych. Ponieważ pracujemy bez użycia Railsów, konieczne jest\n",
    "ręczne zestawienie połączenia oraz stworzenie odpowiednich tabel w bazie. Zadania te realizowane są przez\n",
    "skrypt `db_setup.rb`. Aby go uruchomić wpisujemy\n",
    "```ruby\n",
    "$:.unshift \".\"\n",
    "require 'db_setup'\n",
    "```"
   ]
  },
  {
   "cell_type": "code",
   "execution_count": 1,
   "metadata": {
    "collapsed": false
   },
   "outputs": [
    {
     "name": "stdout",
     "output_type": "stream",
     "text": [
      "==  CreateAuthorsMigration: migrating =========================================\n",
      "-- create_table(:authors)\n",
      "   -> 0.0873s\n",
      "==  CreateAuthorsMigration: migrated (0.0921s) ================================\n",
      "\n",
      "==  CreateBooksMigration: migrating ===========================================\n",
      "-- create_table(:books)\n",
      "   -> 0.0342s\n",
      "==  CreateBooksMigration: migrated (0.0500s) ==================================\n",
      "\n",
      "==  CreateGenresMigration: migrating ==========================================\n",
      "-- create_table(:genres)\n",
      "   -> 0.0295s\n",
      "==  CreateGenresMigration: migrated (0.0343s) =================================\n",
      "\n",
      "==  CreateBooksGenresMigration: migrating =====================================\n",
      "-- create_table(:books_genres, {:id=>false})\n",
      "   -> 0.0259s\n",
      "-- add_index(:books_genres, [:book_id, :genre_id], {:unique=>true})\n",
      "   -> 0.2434s\n",
      "==  CreateBooksGenresMigration: migrated (0.2965s) ============================\n",
      "\n",
      "==  AddIndicesMigration: migrating ============================================\n",
      "==  AddIndicesMigration: migrated (0.0000s) ===================================\n",
      "\n"
     ]
    },
    {
     "data": {
      "text/plain": [
       "true"
      ]
     },
     "execution_count": 1,
     "metadata": {},
     "output_type": "execute_result"
    }
   ],
   "source": [
    "$:.unshift \".\"\n",
    "require 'db_setup'"
   ]
  },
  {
   "cell_type": "markdown",
   "metadata": {},
   "source": [
    "W dalszych zadaniach będzie wykonywać polecenia korzystając z następujących klas, zmapowanych na odpowiadające im \n",
    "table w bazie danych:\n",
    "```ruby\n",
    "class Author < ActiveRecord::Base\n",
    "  # name      (string)\n",
    "  # surname   (string)\n",
    "  # born      (datetime) \n",
    "  # died      (datetime)\n",
    "  # image_url (string)\n",
    "  \n",
    "  has_many :books\n",
    "end\n",
    "\n",
    "class Book < ActiveRecord::Base\n",
    "  # title     (string)\n",
    "  # language  (string)\n",
    "  # author    (Author)\n",
    "  # published (integer)\n",
    "\n",
    "  belongs_to :author\n",
    "  has_and_belongs_to_many :genres\n",
    "end\n",
    "\n",
    "class Genre < ActiveRecord::Base\n",
    "  # name  (string)\n",
    "  \n",
    "  has_and_belongs_to_many :books\n",
    "end\n",
    "```"
   ]
  },
  {
   "cell_type": "markdown",
   "metadata": {},
   "source": [
    "## CRUD"
   ]
  },
  {
   "cell_type": "markdown",
   "metadata": {},
   "source": [
    "Cztery podstawowe operacje, które wykonujemy na danych to\n",
    "* tworzenie - **C**reate\n",
    "* odczytywanie - **R**ead\n",
    "* modyfikowanie - **U**pdate\n",
    "* usuwanie - **D**elete\n",
    "\n",
    "W skrócie oznaczane są one za pomocą akronimu CRUD."
   ]
  },
  {
   "cell_type": "markdown",
   "metadata": {},
   "source": [
    "### Create"
   ]
  },
  {
   "cell_type": "markdown",
   "metadata": {},
   "source": [
    "W ActiveRecord (w skrócie AR) korzystamy z obiektowego interfejsu. \n",
    "Tworzenie danych wygląda następująco:\n",
    "```ruby\n",
    "author = Author.new(name: \"Adam\", surname: \"Mickiewicz\")\n",
    "author.save\n",
    "```"
   ]
  },
  {
   "cell_type": "code",
   "execution_count": 2,
   "metadata": {
    "collapsed": false
   },
   "outputs": [
    {
     "data": {
      "text/plain": [
       "true"
      ]
     },
     "execution_count": 2,
     "metadata": {},
     "output_type": "execute_result"
    }
   ],
   "source": [
    "author = Author.new(name: \"Adam\", surname: \"Mickiewicz\")\n",
    "author.save\n"
   ]
  },
  {
   "cell_type": "markdown",
   "metadata": {},
   "source": [
    "Innymi słowy tworzymy nowy obiekt Rubiego i wywołujemy na nim metodę `save`. To że faktycznie został on dodany do bazy danych \n",
    "możemy zweryfikować wyszukując pierwszy obiekt w bazie:\n",
    "```ruby\n",
    "author = Author.first\n",
    "puts author.name\n",
    "puts author.surname\n",
    "```"
   ]
  },
  {
   "cell_type": "code",
   "execution_count": 3,
   "metadata": {
    "collapsed": false
   },
   "outputs": [
    {
     "name": "stdout",
     "output_type": "stream",
     "text": [
      "Adam\n",
      "Mickiewicz\n"
     ]
    }
   ],
   "source": [
    "author = Author.first\n",
    "puts author.name\n",
    "puts author.surname\n"
   ]
  },
  {
   "cell_type": "markdown",
   "metadata": {},
   "source": [
    "### Zadanie 1"
   ]
  },
  {
   "cell_type": "markdown",
   "metadata": {},
   "source": [
    "Dodaj do bazy 3 autorów:\n",
    "* Juliusz Słowacki\n",
    "* Henryk Sienkiewicz\n",
    "* Eliza Orzeszkowa"
   ]
  },
  {
   "cell_type": "code",
   "execution_count": 4,
   "metadata": {
    "collapsed": false
   },
   "outputs": [
    {
     "data": {
      "text/plain": [
       "true"
      ]
     },
     "execution_count": 4,
     "metadata": {},
     "output_type": "execute_result"
    }
   ],
   "source": [
    "author = Author.new(name: \"Juliusz\", surname: \"Słowacki\")\n",
    "author.save\n",
    "author = Author.new(name: \"Henryk\", surname: \"Sienkiewicz\")\n",
    "author.save\n",
    "author = Author.new(name: \"Eliza\", surname: \"Orzeszkowa\")\n",
    "author.save\n"
   ]
  },
  {
   "cell_type": "markdown",
   "metadata": {},
   "source": [
    "### Read"
   ]
  },
  {
   "cell_type": "markdown",
   "metadata": {},
   "source": [
    "Odczytywanie danych z bazy można realizować na wiele sposobów. Najprostszy sposób, to wyszukiwanie ich z wykorzystaniem \n",
    "klucza główego - `id`. Służy do tego metoda `find`:\n",
    "```ruby\n",
    "author = Author.find(1)\n",
    "puts author.surname\n",
    "author = Author.find(2)\n",
    "puts author.surname\n",
    "```"
   ]
  },
  {
   "cell_type": "code",
   "execution_count": 5,
   "metadata": {
    "collapsed": false
   },
   "outputs": [
    {
     "name": "stdout",
     "output_type": "stream",
     "text": [
      "Mickiewicz\n",
      "Słowacki\n"
     ]
    }
   ],
   "source": [
    "author = Author.find(1)\n",
    "puts author.surname\n",
    "author = Author.find(2)\n",
    "puts author.surname\n"
   ]
  },
  {
   "cell_type": "markdown",
   "metadata": {},
   "source": [
    "Wykorzystanie tej metody może jedak skutkować wyjątkiem, jeśli w bazie nie ma wiersza z danym kluczem:\n",
    "```ruby\n",
    "author = Author.find(10)\n",
    "```"
   ]
  },
  {
   "cell_type": "code",
   "execution_count": 6,
   "metadata": {
    "collapsed": false
   },
   "outputs": [
    {
     "ename": "ActiveRecord::RecordNotFound",
     "evalue": "Couldn't find Author with 'id'=10",
     "output_type": "error",
     "traceback": [
      "\u001b[31mActiveRecord::RecordNotFound\u001b[0m: Couldn't find Author with 'id'=10",
      "\u001b[37m/home/ania/.rvm/gems/ruby-2.2.3/gems/activerecord-4.2.5/lib/active_record/core.rb:155:in `find'\u001b[0m",
      "\u001b[37m<main>:in `<main>'\u001b[0m",
      "\u001b[37m/home/ania/.rvm/gems/ruby-2.2.3/gems/iruby-0.2.7/lib/iruby/backend.rb:44:in `eval'\u001b[0m",
      "\u001b[37m/home/ania/.rvm/gems/ruby-2.2.3/gems/iruby-0.2.7/lib/iruby/backend.rb:44:in `eval'\u001b[0m",
      "\u001b[37m/home/ania/.rvm/gems/ruby-2.2.3/gems/iruby-0.2.7/lib/iruby/backend.rb:12:in `eval'\u001b[0m",
      "\u001b[37m/home/ania/.rvm/gems/ruby-2.2.3/gems/iruby-0.2.7/lib/iruby/kernel.rb:87:in `execute_request'\u001b[0m",
      "\u001b[37m/home/ania/.rvm/gems/ruby-2.2.3/gems/iruby-0.2.7/lib/iruby/kernel.rb:47:in `dispatch'\u001b[0m",
      "\u001b[37m/home/ania/.rvm/gems/ruby-2.2.3/gems/iruby-0.2.7/lib/iruby/kernel.rb:37:in `run'\u001b[0m",
      "\u001b[37m/home/ania/.rvm/gems/ruby-2.2.3/gems/iruby-0.2.7/lib/iruby/command.rb:70:in `run_kernel'\u001b[0m",
      "\u001b[37m/home/ania/.rvm/gems/ruby-2.2.3/gems/iruby-0.2.7/lib/iruby/command.rb:34:in `run'\u001b[0m",
      "\u001b[37m/home/ania/.rvm/gems/ruby-2.2.3/gems/iruby-0.2.7/bin/iruby:5:in `<top (required)>'\u001b[0m",
      "\u001b[37m/home/ania/.rvm/gems/ruby-2.2.3/bin/iruby:23:in `load'\u001b[0m",
      "\u001b[37m/home/ania/.rvm/gems/ruby-2.2.3/bin/iruby:23:in `<main>'\u001b[0m",
      "\u001b[37m/home/ania/.rvm/gems/ruby-2.2.3/bin/ruby_executable_hooks:15:in `eval'\u001b[0m",
      "\u001b[37m/home/ania/.rvm/gems/ruby-2.2.3/bin/ruby_executable_hooks:15:in `<main>'\u001b[0m"
     ]
    }
   ],
   "source": [
    "author = Author.find(10)"
   ]
  },
  {
   "cell_type": "markdown",
   "metadata": {},
   "source": [
    "Możemy zabezpieczyć się przed tą sytuacją, korzystają z innego wywołania `find_by_id`\n",
    "```ruby\n",
    "author = Author.find_by_id(10)\n",
    "p author\n",
    "```"
   ]
  },
  {
   "cell_type": "code",
   "execution_count": 7,
   "metadata": {
    "collapsed": false
   },
   "outputs": [
    {
     "name": "stdout",
     "output_type": "stream",
     "text": [
      "nil\n"
     ]
    }
   ],
   "source": [
    "author = Author.find_by_id(10)\n",
    "p author\n"
   ]
  },
  {
   "cell_type": "markdown",
   "metadata": {},
   "source": [
    "### Zadanie 2"
   ]
  },
  {
   "cell_type": "markdown",
   "metadata": {},
   "source": [
    "Próba odczytania pól takiego obiektu, również skończy się wyjątkiem. Co należy zrobić, żeby wypisać imię i nazwisko autora\n",
    "wyłącznie wtedy gdy autor istnieje w bazie? Zaimplementuj metodę `print_author`, która radzi sobie z tym problemem."
   ]
  },
  {
   "cell_type": "code",
   "execution_count": 10,
   "metadata": {
    "collapsed": false
   },
   "outputs": [
    {
     "name": "stdout",
     "output_type": "stream",
     "text": [
      "Adam Mickiewicz\n",
      "\"Nie ma takiego id.\"\n"
     ]
    },
    {
     "data": {
      "text/plain": [
       "\"Nie ma takiego id.\""
      ]
     },
     "execution_count": 10,
     "metadata": {},
     "output_type": "execute_result"
    }
   ],
   "source": [
    "def print_author(id)\n",
    "  author = Author.find_by_id(id)\n",
    "  if Author.find_by_id(id) == nil\n",
    "    p \"Nie ma takiego id.\"\n",
    "  else\n",
    "    puts author.name + \" \" + author.surname\n",
    "  end\n",
    "\n",
    "  \n",
    "end\n",
    "\n",
    "# te linijki mają pozostać niezmienione\n",
    "print_author(1)\n",
    "print_author(10)"
   ]
  },
  {
   "cell_type": "markdown",
   "metadata": {},
   "source": [
    "### Update"
   ]
  },
  {
   "cell_type": "markdown",
   "metadata": {},
   "source": [
    "Modyfikowanie danych realizowane może być na kilka sposobów. W pierwszej kolejności możemy zmodyfikować atrybut obiektu i \n",
    "następnie zapisać go do bazy\n",
    "```ruby\n",
    "author = Author.find(1)\n",
    "puts author.surname\n",
    "author.surname = \"Mickiewiczowski\"\n",
    "author.save\n",
    "\n",
    "other_author = Author.find(1)\n",
    "puts other_author.surname\n",
    "```"
   ]
  },
  {
   "cell_type": "code",
   "execution_count": 12,
   "metadata": {
    "collapsed": false
   },
   "outputs": [
    {
     "name": "stdout",
     "output_type": "stream",
     "text": [
      "Mickiewiczowski\n",
      "Mickiewiczowski\n",
      "Wojciech\n"
     ]
    }
   ],
   "source": [
    "author = Author.find(1)\n",
    "puts author.surname\n",
    "author.surname = \"Mickiewiczowski\"\n",
    "author.save\n",
    "\n",
    "other_author = Author.find(1)\n",
    "puts other_author.surname\n",
    "\n",
    "author = Author.find(1)\n",
    "author.update_attributes(name: \"Wojciech\")\n",
    "other_author = Author.find(1)\n",
    "puts other_author.name\n",
    "\n"
   ]
  },
  {
   "cell_type": "markdown",
   "metadata": {},
   "source": [
    "Można również skorzystać z metody `update_attributes`, która działa podobnie jak konstruktor, ale dane są od razu\n",
    "modyfikowane w bazie\n",
    "```ruby\n",
    "author = Author.find(1)\n",
    "author.update_attributes(name: \"Wojciech\")\n",
    "other_author = Author.find(1)\n",
    "puts other_author.name\n",
    "```"
   ]
  },
  {
   "cell_type": "markdown",
   "metadata": {},
   "source": [
    "### Zadanie 3"
   ]
  },
  {
   "cell_type": "markdown",
   "metadata": {},
   "source": [
    "Zmodyfikuj wszystkich autorów, tak by ich daty urodzenia i śmierci były poprawne. Popraw również imię i nazwisko Adama Mickiewicza.\n",
    "Aby wprowadzić datę skorzystaj z metody `Date.parse`."
   ]
  },
  {
   "cell_type": "code",
   "execution_count": 23,
   "metadata": {
    "collapsed": false
   },
   "outputs": [
    {
     "name": "stdout",
     "output_type": "stream",
     "text": [
      "Adam\n",
      "Mickiewicz\n",
      "1789-12-24\n",
      "1855-11-26\n",
      "Juliusz\n",
      "Słowacki\n",
      "1809-09-04\n",
      "1849-04-03\n",
      "Henryk\n",
      "Sienkiewicz\n",
      "1846-05-05\n",
      "1916-11-05\n",
      "Eliza\n",
      "Orzeszkowa\n",
      "1841-06-06\n",
      "1910-05-23\n"
     ]
    }
   ],
   "source": [
    "author = Author.find(5)\n",
    "author.update_attributes(name: \"Adam\", surname: \"Mickiewicz\", born: Date.parse(\"1789-12-24\"), died: Date.parse(\"1855-11-26\"))\n",
    "other_author = Author.find(5)\n",
    "puts other_author.name\n",
    "puts other_author.surname\n",
    "puts other_author.born\n",
    "puts other_author.died\n",
    "author = Author.find(2)\n",
    "author.update_attributes(name: \"Juliusz\", surname: \"Słowacki\", born: Date.parse(\"1809-09-04\"), died: Date.parse(\"1849-04-03\"))\n",
    "other_author = Author.find(2)\n",
    "puts other_author.name\n",
    "puts other_author.surname\n",
    "puts other_author.born\n",
    "puts other_author.died\n",
    "author = Author.find(3)\n",
    "author.update_attributes(name: \"Henryk\", surname: \"Sienkiewicz\", born: Date.parse(\"1846-05-05\"), died: Date.parse(\"1916-11-05\"))\n",
    "other_author = Author.find(3)\n",
    "puts other_author.name\n",
    "puts other_author.surname\n",
    "puts other_author.born\n",
    "puts other_author.died\n",
    "author = Author.find(4)\n",
    "author.update_attributes(name: \"Eliza\", surname: \"Orzeszkowa\", born: Date.parse(\"1841-06-06\"), died: Date.parse(\"1910-05-23\"))\n",
    "other_author = Author.find(4)\n",
    "puts other_author.name\n",
    "puts other_author.surname\n",
    "puts other_author.born\n",
    "puts other_author.died"
   ]
  },
  {
   "cell_type": "markdown",
   "metadata": {},
   "source": [
    "### Delete"
   ]
  },
  {
   "cell_type": "markdown",
   "metadata": {},
   "source": [
    "Usuwanie danych realizowane jest za pomocą wywołania `destroy`:\n",
    "```ruby\n",
    "author = Author.find(1)\n",
    "author.destroy\n",
    "```"
   ]
  },
  {
   "cell_type": "code",
   "execution_count": 15,
   "metadata": {
    "collapsed": false
   },
   "outputs": [
    {
     "data": {
      "text/plain": [
       "#<Author id: 1, name: \"Adam\", surname: \"Mickiewicz\", born: \"1789-12-24\", died: \"1855-11-26\", image_url: nil>"
      ]
     },
     "execution_count": 15,
     "metadata": {},
     "output_type": "execute_result"
    }
   ],
   "source": [
    "author = Author.find(1)\n",
    "author.destroy\n"
   ]
  },
  {
   "cell_type": "markdown",
   "metadata": {},
   "source": [
    "### Zadanie 4"
   ]
  },
  {
   "cell_type": "markdown",
   "metadata": {},
   "source": [
    "Ponieważ właśnie usunąłeś/ęłaś Adama Mickiewicza, ponownie utwórz odpowiadający mu rekord."
   ]
  },
  {
   "cell_type": "code",
   "execution_count": 16,
   "metadata": {
    "collapsed": false
   },
   "outputs": [
    {
     "data": {
      "text/plain": [
       "true"
      ]
     },
     "execution_count": 16,
     "metadata": {},
     "output_type": "execute_result"
    }
   ],
   "source": [
    "author = Author.new(name: \"Adam\", surname: \"Mickiewicz\")\n",
    "author.save"
   ]
  },
  {
   "cell_type": "markdown",
   "metadata": {},
   "source": [
    "## Język zapytań"
   ]
  },
  {
   "cell_type": "markdown",
   "metadata": {},
   "source": [
    "## `find`, `first`, `last`, `all`"
   ]
  },
  {
   "cell_type": "markdown",
   "metadata": {},
   "source": [
    "Metoda `find` pozwala nie tylko pobierać pojedynczy obiekt z bazy, ale również kilka obiektów na raz:\n",
    "```ruby\n",
    "authors = Author.find(2,3,4)\n",
    "authors.each do |author|\n",
    "  puts \"#{author.name} #{author.surname}\"\n",
    "end\n",
    "```"
   ]
  },
  {
   "cell_type": "code",
   "execution_count": 17,
   "metadata": {
    "collapsed": false
   },
   "outputs": [
    {
     "name": "stdout",
     "output_type": "stream",
     "text": [
      "Juliusz Słowacki\n",
      "Henryk Sienkiewicz\n",
      "Eliza Orzeszkowa\n"
     ]
    },
    {
     "data": {
      "text/plain": [
       "[#<Author id: 2, name: \"Juliusz\", surname: \"Słowacki\", born: nil, died: nil, image_url: nil>, #<Author id: 3, name: \"Henryk\", surname: \"Sienkiewicz\", born: nil, died: nil, image_url: nil>, #<Author id: 4, name: \"Eliza\", surname: \"Orzeszkowa\", born: nil, died: nil, image_url: nil>]"
      ]
     },
     "execution_count": 17,
     "metadata": {},
     "output_type": "execute_result"
    }
   ],
   "source": [
    "authors = Author.find(2,3,4)\n",
    "authors.each do |author|\n",
    "  puts \"#{author.name} #{author.surname}\"\n",
    "end\n"
   ]
  },
  {
   "cell_type": "markdown",
   "metadata": {},
   "source": [
    "Metody `first` oraz `last` zwracają odpowiednio *pierwszy* i *ostatni* rekord w bazie. W domyślnej konfiguracji kolejność\n",
    "ta będzie odpowiadała czasowi ich utworzenia.\n",
    "```ruby\n",
    "puts Author.first.surname\n",
    "puts Author.last.surname\n",
    "```"
   ]
  },
  {
   "cell_type": "code",
   "execution_count": 18,
   "metadata": {
    "collapsed": false
   },
   "outputs": [
    {
     "name": "stdout",
     "output_type": "stream",
     "text": [
      "Słowacki\n",
      "Mickiewicz\n"
     ]
    }
   ],
   "source": [
    "puts Author.first.surname\n",
    "puts Author.last.surname\n"
   ]
  },
  {
   "cell_type": "markdown",
   "metadata": {},
   "source": [
    "Natomiast metoda `all` zwraca kolekcję obejmującą wszystkie rekordy w bazie danych:\n",
    "```ruby\n",
    "authors = Author.all\n",
    "authors.each do |author|\n",
    "  puts \"#{author.name} #{author.surname}\"\n",
    "end\n",
    "```"
   ]
  },
  {
   "cell_type": "code",
   "execution_count": 19,
   "metadata": {
    "collapsed": false
   },
   "outputs": [
    {
     "name": "stdout",
     "output_type": "stream",
     "text": [
      "Juliusz Słowacki\n",
      "Henryk Sienkiewicz\n",
      "Eliza Orzeszkowa\n",
      "Adam Mickiewicz\n"
     ]
    },
    {
     "data": {
      "text/plain": [
       "[#<Author id: 2, name: \"Juliusz\", surname: \"Słowacki\", born: nil, died: nil, image_url: nil>, #<Author id: 3, name: \"Henryk\", surname: \"Sienkiewicz\", born: nil, died: nil, image_url: nil>, #<Author id: 4, name: \"Eliza\", surname: \"Orzeszkowa\", born: nil, died: nil, image_url: nil>, #<Author id: 5, name: \"Adam\", surname: \"Mickiewicz\", born: nil, died: nil, image_url: nil>]"
      ]
     },
     "execution_count": 19,
     "metadata": {},
     "output_type": "execute_result"
    }
   ],
   "source": [
    "authors = Author.all\n",
    "authors.each do |author|\n",
    "  puts \"#{author.name} #{author.surname}\"\n",
    "end\n"
   ]
  },
  {
   "cell_type": "markdown",
   "metadata": {},
   "source": [
    "### Zadanie 5"
   ]
  },
  {
   "cell_type": "markdown",
   "metadata": {},
   "source": [
    "Wypisz wszystkich autorów znajdujących się w bazie wraz z ich datami urodzenia i śmierci. Postaraj się sformatować daty,\n",
    "tak by obejmowały tylko dzień, miesiąc i rok - w tej kolejności. Służy do tego metoda `strftime`."
   ]
  },
  {
   "cell_type": "code",
   "execution_count": 24,
   "metadata": {
    "collapsed": false
   },
   "outputs": [
    {
     "name": "stdout",
     "output_type": "stream",
     "text": [
      "Juliusz Słowacki 04-09-1809 03-04-1849\n",
      "Henryk Sienkiewicz 05-05-1846 05-11-1916\n",
      "Eliza Orzeszkowa 06-06-1841 23-05-1910\n",
      "Adam Mickiewicz 24-12-1789 26-11-1855\n"
     ]
    },
    {
     "data": {
      "text/plain": [
       "[#<Author id: 2, name: \"Juliusz\", surname: \"Słowacki\", born: \"1809-09-04\", died: \"1849-04-03\", image_url: nil>, #<Author id: 3, name: \"Henryk\", surname: \"Sienkiewicz\", born: \"1846-05-05\", died: \"1916-11-05\", image_url: nil>, #<Author id: 4, name: \"Eliza\", surname: \"Orzeszkowa\", born: \"1841-06-06\", died: \"1910-05-23\", image_url: nil>, #<Author id: 5, name: \"Adam\", surname: \"Mickiewicz\", born: \"1789-12-24\", died: \"1855-11-26\", image_url: nil>]"
      ]
     },
     "execution_count": 24,
     "metadata": {},
     "output_type": "execute_result"
    }
   ],
   "source": [
    "authors = Author.all\n",
    "authors.each do |author|\n",
    "  puts \"#{author.name} #{author.surname} #{author.born.strftime(\"%d-%m-%Y\")} #{author.died.strftime(\"%d-%m-%Y\")}\" \n",
    "end"
   ]
  },
  {
   "cell_type": "markdown",
   "metadata": {},
   "source": [
    "### `find_by`"
   ]
  },
  {
   "cell_type": "markdown",
   "metadata": {},
   "source": [
    "AR definiuje również metody pozwalające na wyszukiwanie rekordów na podstawie wartości atrybutów. Najprostsza z nich to `find_by`. Zwraca rekord, które posiada wartość określoną w zapytaniu:\n",
    "```ruby\n",
    "author = Author.find_by_name(\"Adam\")\n",
    "puts author.surname\n",
    "```"
   ]
  },
  {
   "cell_type": "code",
   "execution_count": 25,
   "metadata": {
    "collapsed": false
   },
   "outputs": [
    {
     "name": "stdout",
     "output_type": "stream",
     "text": [
      "Mickiewicz\n"
     ]
    }
   ],
   "source": [
    "author = Author.find_by_name(\"Adam\")\n",
    "puts author.surname\n"
   ]
  },
  {
   "cell_type": "markdown",
   "metadata": {},
   "source": [
    "### `where`"
   ]
  },
  {
   "cell_type": "markdown",
   "metadata": {},
   "source": [
    "Metoda `where` odpowiada klauzuli `where` z języka SQL. Podstawowa różnica polega na tym, że wartości poszczególnych pól określamy w postaci par klucz-wartość. Jeśli chcemy uzyskać pojedynczy wynik dodajemy metodę `first` lub `last`:\n",
    "```ruby\n",
    "author = Author.where(name: \"Eliza\").first\n",
    "puts author.surname\n",
    "```"
   ]
  },
  {
   "cell_type": "code",
   "execution_count": 26,
   "metadata": {
    "collapsed": false
   },
   "outputs": [
    {
     "name": "stdout",
     "output_type": "stream",
     "text": [
      "Orzeszkowa\n"
     ]
    }
   ],
   "source": [
    "author = Author.where(name: \"Eliza\").first\n",
    "puts author.surname\n"
   ]
  },
  {
   "cell_type": "markdown",
   "metadata": {},
   "source": [
    "Metoda ta ma jednak znacznie większe możliwości - można np. podawać zakresy wartości, jako zakresy Rubiego:\n",
    "```ruby\n",
    "authors = Author.where(born: (Date.parse(\"1780-1-1\")..Date.parse(\"1800-12-31\"))\n",
    "authors.each do |author|\n",
    "  puts \"#{author.name} #{author.surname} #{author.born.strftime(\"%d-%m-%Y\")}\"\n",
    "end\n",
    "```"
   ]
  },
  {
   "cell_type": "code",
   "execution_count": 32,
   "metadata": {
    "collapsed": false
   },
   "outputs": [
    {
     "name": "stdout",
     "output_type": "stream",
     "text": [
      "Adam Mickiewicz 24-12-1789\n"
     ]
    },
    {
     "data": {
      "text/plain": [
       "[#<Author id: 5, name: \"Adam\", surname: \"Mickiewicz\", born: \"1789-12-24\", died: \"1855-11-26\", image_url: nil>]"
      ]
     },
     "execution_count": 32,
     "metadata": {},
     "output_type": "execute_result"
    }
   ],
   "source": [
    "authors = Author.where(born: (Date.parse(\"1780-1-1\")..Date.parse(\"1800-12-31\")))\n",
    "authors.each do |author|\n",
    "  puts \"#{author.name} #{author.surname} #{author.born.strftime(\"%d-%m-%Y\")}\"\n",
    "end\n",
    "\n"
   ]
  },
  {
   "cell_type": "markdown",
   "metadata": {},
   "source": [
    "Metodę `where` można wywoływać wielokrotnie. Wtedy wyniki są łączone za pomocą operatora koniunkcji. Jeśli chcemy\n",
    "użyć innego operatora (np. `OR` lub `LIKE`), konieczne jest użycie nieco innej składni:\n",
    "```ruby\n",
    "authors = Author.where(\"name LIKE 'A%'\")\n",
    "authors.each do |author|\n",
    "  puts author.surname\n",
    "end\n",
    "```  "
   ]
  },
  {
   "cell_type": "code",
   "execution_count": 33,
   "metadata": {
    "collapsed": false
   },
   "outputs": [
    {
     "name": "stdout",
     "output_type": "stream",
     "text": [
      "Mickiewicz\n"
     ]
    },
    {
     "data": {
      "text/plain": [
       "[#<Author id: 5, name: \"Adam\", surname: \"Mickiewicz\", born: \"1789-12-24\", died: \"1855-11-26\", image_url: nil>]"
      ]
     },
     "execution_count": 33,
     "metadata": {},
     "output_type": "execute_result"
    }
   ],
   "source": [
    "authors = Author.where(\"name LIKE 'A%'\")\n",
    "authors.each do |author|\n",
    "  puts author.surname\n",
    "end\n"
   ]
  },
  {
   "cell_type": "markdown",
   "metadata": {},
   "source": [
    "Jeśli dane w napisie przekazanym do metody `where` pochodzą od użytkownika aplikacji, to narażamy się na atak SQL-injection.\n",
    "Aby go unikąć, wartość podaną przez użytkownika przekazujemy jako osobny argument, np.\n",
    "```ruby\n",
    "name = \"Adam\"\n",
    "authors = Author.where(\"name = ?\",name)\n",
    "authors.each do |author|\n",
    "  puts author.surname\n",
    "end\n",
    "```"
   ]
  },
  {
   "cell_type": "code",
   "execution_count": 34,
   "metadata": {
    "collapsed": false
   },
   "outputs": [
    {
     "name": "stdout",
     "output_type": "stream",
     "text": [
      "Mickiewicz\n"
     ]
    },
    {
     "data": {
      "text/plain": [
       "[#<Author id: 5, name: \"Adam\", surname: \"Mickiewicz\", born: \"1789-12-24\", died: \"1855-11-26\", image_url: nil>]"
      ]
     },
     "execution_count": 34,
     "metadata": {},
     "output_type": "execute_result"
    }
   ],
   "source": [
    "name = \"Adam\"\n",
    "authors = Author.where(\"name = ?\",name)\n",
    "authors.each do |author|\n",
    "  puts author.surname\n",
    "end\n"
   ]
  },
  {
   "cell_type": "markdown",
   "metadata": {},
   "source": [
    "W tej sytuacji AR sam zadba o odpowiednią konwersję znaków \"niebezpiecznych\"."
   ]
  },
  {
   "cell_type": "markdown",
   "metadata": {},
   "source": [
    "### Zadanie 6"
   ]
  },
  {
   "cell_type": "markdown",
   "metadata": {},
   "source": [
    "Znajdź i wypisz wszystkich autorów, którzy zmarli między rokiem 1800 a 1900."
   ]
  },
  {
   "cell_type": "code",
   "execution_count": 35,
   "metadata": {
    "collapsed": false
   },
   "outputs": [
    {
     "name": "stdout",
     "output_type": "stream",
     "text": [
      "Juliusz Słowacki 03-04-1849\n",
      "Adam Mickiewicz 26-11-1855\n"
     ]
    },
    {
     "data": {
      "text/plain": [
       "[#<Author id: 2, name: \"Juliusz\", surname: \"Słowacki\", born: \"1809-09-04\", died: \"1849-04-03\", image_url: nil>, #<Author id: 5, name: \"Adam\", surname: \"Mickiewicz\", born: \"1789-12-24\", died: \"1855-11-26\", image_url: nil>]"
      ]
     },
     "execution_count": 35,
     "metadata": {},
     "output_type": "execute_result"
    }
   ],
   "source": [
    "authors = Author.where(died: (Date.parse(\"1800-1-1\")..Date.parse(\"1900-1-1\")))\n",
    "authors.each do |author|\n",
    "  puts \"#{author.name} #{author.surname} #{author.died.strftime(\"%d-%m-%Y\")}\"\n",
    "end"
   ]
  },
  {
   "cell_type": "markdown",
   "metadata": {},
   "source": [
    "### `order`"
   ]
  },
  {
   "cell_type": "markdown",
   "metadata": {},
   "source": [
    "Do określania kolejności wyników służy metoda `order`. Działa ona analogicznie do klauzuli `ORDER` w języku SQL.\n",
    "```ruby\n",
    "authors = Author.order(:born)\n",
    "authors.each do |author|\n",
    "  puts \"#{author.name} #{author.surname} #{author.born}\"\n",
    "end\n",
    "```"
   ]
  },
  {
   "cell_type": "code",
   "execution_count": 36,
   "metadata": {
    "collapsed": false
   },
   "outputs": [
    {
     "name": "stdout",
     "output_type": "stream",
     "text": [
      "Adam Mickiewicz 1789-12-24\n",
      "Juliusz Słowacki 1809-09-04\n",
      "Eliza Orzeszkowa 1841-06-06\n",
      "Henryk Sienkiewicz 1846-05-05\n"
     ]
    },
    {
     "data": {
      "text/plain": [
       "[#<Author id: 5, name: \"Adam\", surname: \"Mickiewicz\", born: \"1789-12-24\", died: \"1855-11-26\", image_url: nil>, #<Author id: 2, name: \"Juliusz\", surname: \"Słowacki\", born: \"1809-09-04\", died: \"1849-04-03\", image_url: nil>, #<Author id: 4, name: \"Eliza\", surname: \"Orzeszkowa\", born: \"1841-06-06\", died: \"1910-05-23\", image_url: nil>, #<Author id: 3, name: \"Henryk\", surname: \"Sienkiewicz\", born: \"1846-05-05\", died: \"1916-11-05\", image_url: nil>]"
      ]
     },
     "execution_count": 36,
     "metadata": {},
     "output_type": "execute_result"
    }
   ],
   "source": [
    "authors = Author.order(:born)\n",
    "authors.each do |author|\n",
    "  puts \"#{author.name} #{author.surname} #{author.born}\"\n",
    "end\n"
   ]
  },
  {
   "cell_type": "markdown",
   "metadata": {},
   "source": [
    "Metoda ta często jest łączona z wywołaniami `first` i `last`\n",
    "```ruby\n",
    "author = Author.order(:born).last\n",
    "puts \"#{author.name} #{author.surname} #{author.born}\"\n",
    "```"
   ]
  },
  {
   "cell_type": "markdown",
   "metadata": {},
   "source": [
    "### Zadanie 7"
   ]
  },
  {
   "cell_type": "markdown",
   "metadata": {},
   "source": [
    "Znajdź autora, który zmarł jako ostatni."
   ]
  },
  {
   "cell_type": "code",
   "execution_count": 37,
   "metadata": {
    "collapsed": false
   },
   "outputs": [
    {
     "name": "stdout",
     "output_type": "stream",
     "text": [
      "Henryk Sienkiewicz 1916-11-05\n"
     ]
    }
   ],
   "source": [
    "author = Author.order(:died).last\n",
    "puts \"#{author.name} #{author.surname} #{author.died}\"\n"
   ]
  },
  {
   "cell_type": "markdown",
   "metadata": {},
   "source": [
    "### `limit` i `offset`"
   ]
  },
  {
   "cell_type": "markdown",
   "metadata": {},
   "source": [
    "Metody `limit` i `offset` działają analogicznie jak ich odpowiedniki w SQL:\n",
    "```ruby\n",
    "Author.limit(2).each do |author|\n",
    "  puts \"#{author.name} #{author.surname} #{author.born}\"\n",
    "end\n",
    "```"
   ]
  },
  {
   "cell_type": "code",
   "execution_count": 38,
   "metadata": {
    "collapsed": false
   },
   "outputs": [
    {
     "name": "stdout",
     "output_type": "stream",
     "text": [
      "Juliusz Słowacki 1809-09-04\n",
      "Henryk Sienkiewicz 1846-05-05\n"
     ]
    },
    {
     "data": {
      "text/plain": [
       "[#<Author id: 2, name: \"Juliusz\", surname: \"Słowacki\", born: \"1809-09-04\", died: \"1849-04-03\", image_url: nil>, #<Author id: 3, name: \"Henryk\", surname: \"Sienkiewicz\", born: \"1846-05-05\", died: \"1916-11-05\", image_url: nil>]"
      ]
     },
     "execution_count": 38,
     "metadata": {},
     "output_type": "execute_result"
    }
   ],
   "source": [
    "Author.limit(2).each do |author|\n",
    "  puts \"#{author.name} #{author.surname} #{author.born}\"\n",
    "end\n"
   ]
  },
  {
   "cell_type": "markdown",
   "metadata": {},
   "source": [
    "```ruby\n",
    "Author.offset(2).each do |author|\n",
    "  puts \"#{author.name} #{author.surname} #{author.born}\"\n",
    "end\n",
    "```"
   ]
  },
  {
   "cell_type": "code",
   "execution_count": 39,
   "metadata": {
    "collapsed": false
   },
   "outputs": [
    {
     "name": "stdout",
     "output_type": "stream",
     "text": [
      "Eliza Orzeszkowa 1841-06-06\n",
      "Adam Mickiewicz 1789-12-24\n"
     ]
    },
    {
     "data": {
      "text/plain": [
       "[#<Author id: 4, name: \"Eliza\", surname: \"Orzeszkowa\", born: \"1841-06-06\", died: \"1910-05-23\", image_url: nil>, #<Author id: 5, name: \"Adam\", surname: \"Mickiewicz\", born: \"1789-12-24\", died: \"1855-11-26\", image_url: nil>]"
      ]
     },
     "execution_count": 39,
     "metadata": {},
     "output_type": "execute_result"
    }
   ],
   "source": [
    "Author.offset(2).each do |author|\n",
    "  puts \"#{author.name} #{author.surname} #{author.born}\"\n",
    "end\n",
    "\n"
   ]
  },
  {
   "cell_type": "markdown",
   "metadata": {},
   "source": [
    "Warto jednak pamiętać, żeby stosując je określić pożądek rekordów."
   ]
  },
  {
   "cell_type": "markdown",
   "metadata": {},
   "source": [
    "### Zadanie 8"
   ]
  },
  {
   "cell_type": "markdown",
   "metadata": {},
   "source": [
    "Znajdź i wypisz 3 autorów, którzy zmarli jako pierwsi."
   ]
  },
  {
   "cell_type": "code",
   "execution_count": 40,
   "metadata": {
    "collapsed": false
   },
   "outputs": [
    {
     "name": "stdout",
     "output_type": "stream",
     "text": [
      "Juliusz Słowacki 1849-04-03\n",
      "Adam Mickiewicz 1855-11-26\n",
      "Eliza Orzeszkowa 1910-05-23\n"
     ]
    },
    {
     "data": {
      "text/plain": [
       "[#<Author id: 2, name: \"Juliusz\", surname: \"Słowacki\", born: \"1809-09-04\", died: \"1849-04-03\", image_url: nil>, #<Author id: 5, name: \"Adam\", surname: \"Mickiewicz\", born: \"1789-12-24\", died: \"1855-11-26\", image_url: nil>, #<Author id: 4, name: \"Eliza\", surname: \"Orzeszkowa\", born: \"1841-06-06\", died: \"1910-05-23\", image_url: nil>]"
      ]
     },
     "execution_count": 40,
     "metadata": {},
     "output_type": "execute_result"
    }
   ],
   "source": [
    "Author.order(:died).limit(3).each do |author|\n",
    "  puts \"#{author.name} #{author.surname} #{author.died}\"\n",
    "end"
   ]
  }
 ],
 "metadata": {
  "kernelspec": {
   "display_name": "Ruby 2.2.3",
   "language": "ruby",
   "name": "ruby"
  },
  "language_info": {
   "file_extension": "rb",
   "mimetype": "application/x-ruby",
   "name": "ruby",
   "version": "2.2.3"
  }
 },
 "nbformat": 4,
 "nbformat_minor": 0
}
