{
 "cells": [
  {
   "cell_type": "markdown",
   "metadata": {},
   "source": [
    "# Zapytania złożone"
   ]
  },
  {
   "cell_type": "markdown",
   "metadata": {},
   "source": [
    "Przed rozpoczęciem pracy konieczne jest skonfigurowanie bazy oraz załadowanie danych:\n",
    "```ruby\n",
    "$:.unshift \".\"\n",
    "require 'db_setup'\n",
    "require 'db_load'\n",
    "```"
   ]
  },
  {
   "cell_type": "code",
   "execution_count": 1,
   "metadata": {
    "collapsed": false
   },
   "outputs": [
    {
     "name": "stdout",
     "output_type": "stream",
     "text": [
      "==  AddIndicesMigration: migrating ============================================\n",
      "==  AddIndicesMigration: migrated (0.0000s) ===================================\n",
      "\n",
      "................................................................................................."
     ]
    },
    {
     "data": {
      "text/plain": [
       "true"
      ]
     },
     "execution_count": 1,
     "metadata": {},
     "output_type": "execute_result"
    }
   ],
   "source": [
    "$:.unshift \".\"\n",
    "require 'db_setup'\n",
    "require 'db_load'\n"
   ]
  },
  {
   "cell_type": "markdown",
   "metadata": {},
   "source": [
    "W dalszych zadaniach będzie wykonywać polecenia korzystając z następujących klas, zmapowanych na odpowiadające im \n",
    "table w bazie danych:\n",
    "```ruby\n",
    "class Author < ActiveRecord::Base\n",
    "  # name      (string)\n",
    "  # surname   (string)\n",
    "  # born      (datetime) \n",
    "  # died      (datetime)\n",
    "  # image_url (string)\n",
    "  \n",
    "  has_many :books\n",
    "end\n",
    "\n",
    "class Book < ActiveRecord::Base\n",
    "  # title     (string)\n",
    "  # author    (Author)\n",
    "  # published (integer)\n",
    "\n",
    "  belongs_to :author\n",
    "end\n",
    "```"
   ]
  },
  {
   "cell_type": "markdown",
   "metadata": {},
   "source": [
    "ActiveRecord udostępnia interfejs pozwalający wyszukiwać dane w bazie również z wykorzystaniem związków zdefiniowanych pomiędzy\n",
    "klasami. Do definiowania tych związków służą polecenia `has_many`, `belongs_to`, `has_one` oraz `has_and_belongs_to_many`.\n",
    "Przykładowo jeśli chcemy dowiedzieć się kto był autorem pierwszej książki wykonujemy zapytanie:\n",
    "```ruby\n",
    "book = Book.first\n",
    "puts book.title\n",
    "puts book.author\n",
    "```"
   ]
  },
  {
   "cell_type": "code",
   "execution_count": 2,
   "metadata": {
    "collapsed": false
   },
   "outputs": [
    {
     "name": "stdout",
     "output_type": "stream",
     "text": [
      "Végjáték (regény)\n",
      "#<Author:0x00000003f1f8d0>\n"
     ]
    }
   ],
   "source": [
    "book = Book.first\n",
    "puts book.title\n",
    "puts book.author\n"
   ]
  },
  {
   "cell_type": "markdown",
   "metadata": {},
   "source": [
    "Niestety prezentowany wynik nie jest zbyt użyteczny. Ponieważ jednak metoda `author` zwraca obiekt, możemy na nim wywoływać \n",
    "metody - tak samo jak w przypadku autora załadowanego bezpośrednio z wykorzystaniem metod zdefiniowanych dla klasy `Author`\n",
    "```ruby\n",
    "book = Book.first\n",
    "puts book.title\n",
    "puts \"#{book.author.name} #{book.author.surname}\"\n",
    "```"
   ]
  },
  {
   "cell_type": "code",
   "execution_count": 3,
   "metadata": {
    "collapsed": false
   },
   "outputs": [
    {
     "name": "stdout",
     "output_type": "stream",
     "text": [
      "Végjáték (regény)\n",
      "Orson Scott Card\n"
     ]
    }
   ],
   "source": [
    "\n",
    "\n",
    "book = Book.first\n",
    "puts book.title\n",
    "puts \"#{book.author.name} #{book.author.surname}\"\n"
   ]
  },
  {
   "cell_type": "markdown",
   "metadata": {},
   "source": [
    "Co więcej, jeśli mamy do czynienia ze związkiem jeden-do-wiele bądź wiele-do-wiele, możemy wywyływać wszystkie dotychczas poznane \n",
    "metody na kolekcji powiązanych obiektów. Istotnie ułatwia to wyszukiwanie potrzebnych danych:\n",
    "```ruby\n",
    "books = Book.where(\"title like 'A%'\")\n",
    "books.each do |book|\n",
    "  puts book.title\n",
    "end\n",
    "\n",
    "author = Author.where(surname: \"Tołstoj\").first\n",
    "books = author.books.where(\"title like 'A%'\")\n",
    "books.each do |book|\n",
    "  puts book.title\n",
    "end\n",
    "```"
   ]
  },
  {
   "cell_type": "code",
   "execution_count": 4,
   "metadata": {
    "collapsed": false
   },
   "outputs": [
    {
     "name": "stdout",
     "output_type": "stream",
     "text": [
      "Anna Karenina\n",
      "Azazel (powieść)\n",
      "Anna Karenina\n"
     ]
    },
    {
     "data": {
      "text/plain": [
       "[#<Book id: 33, title: \"Anna Karenina\", language: nil, author_id: 30, published: 1877, image_url: \"http://commons.wikimedia.org/wiki/Special:FilePath...\">]"
      ]
     },
     "execution_count": 4,
     "metadata": {},
     "output_type": "execute_result"
    }
   ],
   "source": [
    "books = Book.where(\"title like 'A%'\")\n",
    "books.each do |book|\n",
    "  puts book.title\n",
    "end\n",
    "\n",
    "author = Author.where(surname: \"Tołstoj\").first\n",
    "books = author.books.where(\"title like 'A%'\")\n",
    "books.each do |book|\n",
    "  puts book.title\n",
    "end\n"
   ]
  },
  {
   "cell_type": "markdown",
   "metadata": {},
   "source": [
    "Różnica pomiędzy tymi zapytaniami polega na tym, że w pierwszym przypadku szukamy książki, których tytuł zaczyna się na \"A\" \n",
    "w całym zbiorze książek, a w drugi przypadku wśród książek napisanych przez Tołstoja."
   ]
  },
  {
   "cell_type": "markdown",
   "metadata": {},
   "source": [
    "Aby umożliwić formatowanie wyników zapytania, IRuby udostępnia metodę `IRuby.html`, która pozwala na wyświetlanie kodu\n",
    "HTML. Przykładowo\n",
    "```ruby\n",
    "IRuby.html \"<h1>Test HTML-a</h1>\"\n",
    "```"
   ]
  },
  {
   "cell_type": "code",
   "execution_count": 5,
   "metadata": {
    "collapsed": false
   },
   "outputs": [
    {
     "data": {
      "text/html": [
       "<h1>Test HTML-a</h1>"
      ],
      "text/plain": [
       "\"<h1>Test HTML-a</h1>\""
      ]
     },
     "execution_count": 5,
     "metadata": {},
     "output_type": "execute_result"
    }
   ],
   "source": [
    "IRuby.html \"<h1>Test HTML-a</h1>\"\n"
   ]
  },
  {
   "cell_type": "markdown",
   "metadata": {},
   "source": [
    "Dzięki temu będziemy mogli formatować wyniki zapytań, a wszczególności wyświetlać obrazy przedstwiające autorów oraz książki. \n",
    "Należy jednak wziąć pod uwagę, że nie wszystkie książki oraz nie wszyscy autorzy posiadają odpowiadające im obrazki.\n",
    "Aby wyświetlić imię, nazwisko oraz obraz pierwszego autora piszemy:\n",
    "```ruby\n",
    "author = Author.where(\"image_url is not null\").first\n",
    "IRuby.html \"<h1>#{author.name} #{author.surname}</h1><img src='#{author.image_url}'/>\"\n",
    "```"
   ]
  },
  {
   "cell_type": "code",
   "execution_count": 6,
   "metadata": {
    "collapsed": false
   },
   "outputs": [
    {
     "data": {
      "text/html": [
       "<h1>Orson Scott Card</h1><img src='http://commons.wikimedia.org/wiki/Special:FilePath/Orson_Scott_Card_at_BYU_Symposium_20080216_closeup.jpg?width=300'/>"
      ],
      "text/plain": [
       "\"<h1>Orson Scott Card</h1><img src='http://commons.wikimedia.org/wiki/Special:FilePath/Orson_Scott_Card_at_BYU_Symposium_20080216_closeup.jpg?width=300'/>\""
      ]
     },
     "execution_count": 6,
     "metadata": {},
     "output_type": "execute_result"
    }
   ],
   "source": [
    "author = Author.where(\"image_url is not null\").first\n",
    "IRuby.html \"<h1>#{author.name} #{author.surname}</h1><img src='#{author.image_url}'/>\"\n"
   ]
  },
  {
   "cell_type": "markdown",
   "metadata": {},
   "source": [
    "Możemy również zdefniować funkcję, np. `display_author`, której zadaniem będzie wyświetlenie autora w tej postaci. \n",
    "Jedyny problem polega na tym, że funkcja `IRuby.html` może być wywoływana tylko raz. Dlatego jeśli chcemy wyświetlić kilku autorów,\n",
    "musimy połączyć odpowiadające im kody HTML i wynik przekazać do funkcji `html`\n",
    "```ruby\n",
    "def display_author(author)\n",
    "  \"<h1>#{author.name} #{author.surname}</h1><img src='#{author.image_url}'/>\"\n",
    "end\n",
    "\n",
    "author_1 = Author.where(\"image_url is not null\").first\n",
    "author_2 = Author.where(\"image_url is not null\").offset(1).first\n",
    "document = display_author(author_1)\n",
    "document += display_author(author_2)\n",
    "IRuby.html document\n",
    "```"
   ]
  },
  {
   "cell_type": "code",
   "execution_count": 7,
   "metadata": {
    "collapsed": false
   },
   "outputs": [
    {
     "data": {
      "text/html": [
       "<h1>Orson Scott Card</h1><img src='http://commons.wikimedia.org/wiki/Special:FilePath/Orson_Scott_Card_at_BYU_Symposium_20080216_closeup.jpg?width=300'/><h1>Andrzej Sapkowski</h1><img src='http://commons.wikimedia.org/wiki/Special:FilePath/Sapkowski.jpg?width=300'/>"
      ],
      "text/plain": [
       "\"<h1>Orson Scott Card</h1><img src='http://commons.wikimedia.org/wiki/Special:FilePath/Orson_Scott_Card_at_BYU_Symposium_20080216_closeup.jpg?width=300'/><h1>Andrzej Sapkowski</h1><img src='http://commons.wikimedia.org/wiki/Special:FilePath/Sapkowski.jpg?width=300'/>\""
      ]
     },
     "execution_count": 7,
     "metadata": {},
     "output_type": "execute_result"
    }
   ],
   "source": [
    "def display_author(author)\n",
    "  \"<h1>#{author.name} #{author.surname}</h1><img src='#{author.image_url}'/>\"\n",
    "end\n",
    "\n",
    "author_1 = Author.where(\"image_url is not null\").first\n",
    "author_2 = Author.where(\"image_url is not null\").offset(1).first\n",
    "document = display_author(author_1)\n",
    "document += display_author(author_2)\n",
    "IRuby.html document\n"
   ]
  },
  {
   "cell_type": "markdown",
   "metadata": {},
   "source": [
    "## Zadania"
   ]
  },
  {
   "cell_type": "markdown",
   "metadata": {},
   "source": [
    "### Zadanie 1"
   ]
  },
  {
   "cell_type": "markdown",
   "metadata": {},
   "source": [
    "Wyświetl wszystkich autorów, którzy urodzili się przed rokiem 1900."
   ]
  },
  {
   "cell_type": "code",
   "execution_count": 75,
   "metadata": {
    "collapsed": false
   },
   "outputs": [
    {
     "name": "stdout",
     "output_type": "stream",
     "text": [
      "Juliusz Słowacki 04-09-1809\n",
      "Henryk Sienkiewicz 05-05-1846\n",
      "Eliza Orzeszkowa 06-06-1841\n",
      "Adam Mickiewicz 24-12-1789\n",
      "Jack London 12-01-1876\n",
      "Mikołaj Kopernik 19-02-1473\n",
      "Maria Franciszka Kozłowska 27-05-1862\n",
      "William Szekspir 23-04-1564\n",
      "John Ronald Reuel Tolkien 03-01-1892\n",
      "Aleksander Dumas (ojciec) 24-07-1802\n",
      "Tadeusz Dołęga-Mostowicz 10-08-1898\n",
      "Vladimir Nabokov 22-04-1899\n",
      "Adolf Hitler 20-04-1889\n",
      "Benedykt Chmielowski 20-03-1700\n",
      "Aldous Huxley 26-07-1894\n",
      "Honoré de Balzac 20-05-1799\n",
      "Franz Kafka 03-07-1883\n",
      "Howard Phillips Lovecraft 20-08-1890\n",
      "Lew Tołstoj 09-09-1828\n",
      "Ilja Ilf 15-10-1897\n",
      "Gabriela Zapolska 30-03-1857\n",
      "Clive Staples Lewis 29-11-1898\n",
      "Iwan Turgieniew 09-11-1818\n",
      "Lucy Maud Montgomery 30-11-1874\n",
      "Aleksander Majkowski 17-07-1876\n"
     ]
    },
    {
     "data": {
      "text/plain": [
       "#<Author id: 5, name: \"Adam\", surname: \"Mickiewicz\", born: \"1789-12-24\", died: \"1855-11-26\", image_url: nil>"
      ]
     },
     "execution_count": 75,
     "metadata": {},
     "output_type": "execute_result"
    }
   ],
   "source": [
    "authors = Author.where('born < ?', Date.parse(\"1900-01-01\")).where(\"born is not null\")\n",
    "authors.each do |author|\n",
    "  puts \"#{author.name} #{author.surname} #{author.born.strftime(\"%d-%m-%Y\")}\"\n",
    "end\n"
   ]
  },
  {
   "cell_type": "markdown",
   "metadata": {},
   "source": [
    "### Zadanie 2"
   ]
  },
  {
   "cell_type": "markdown",
   "metadata": {},
   "source": [
    "Zmodyfikuj funkcję wyświetlającą autorów tak aby obejmowała ich datę urodzin i śmierci w formacie `dzień.miesiąc.rok`. Następnie wyświetl wszystkich autorów,\n",
    "\n",
    "którzy zmarli w XX wieku."
   ]
  },
  {
   "cell_type": "code",
   "execution_count": 85,
   "metadata": {
    "collapsed": false
   },
   "outputs": [
    {
     "name": "stdout",
     "output_type": "stream",
     "text": [
      "Henryk Sienkiewicz 05-05-1846 05-11-1916\n",
      "Eliza Orzeszkowa 06-06-1841 23-05-1910\n",
      "Jack London 12-01-1876 22-11-1916\n",
      "Antoni Gołubiew 25-02-1907 27-06-1979\n",
      "George Orwell 25-06-1903 21-01-1950\n",
      "John Ronald Reuel Tolkien 03-01-1892 02-09-1973\n",
      "Tadeusz Dołęga-Mostowicz 10-08-1898 20-09-1939\n",
      "Vladimir Nabokov 22-04-1899 02-07-1977\n",
      "Adolf Hitler 20-04-1889 30-04-1945\n",
      "Aldous Huxley 26-07-1894 22-11-1963\n",
      "Franz Kafka 03-07-1883 03-06-1924\n",
      "Howard Phillips Lovecraft 20-08-1890 15-03-1937\n",
      "Karol Olgierd Borchardt 25-03-1905 20-05-1986\n",
      "Lew Tołstoj 09-09-1828 20-11-1910\n",
      "Janusz Zajdel 15-08-1938 19-07-1985\n",
      "Isaac Asimov 04-10-1919 06-04-1992\n",
      "Ilja Ilf 15-10-1897 13-04-1937\n",
      "Jewgienij Pietrow (pisarz) 13-12-1903 02-07-1942\n",
      "Gabriela Zapolska 30-03-1857 17-12-1921\n",
      "Clive Staples Lewis 29-11-1898 22-11-1963\n",
      "Lucy Maud Montgomery 30-11-1874 24-04-1942\n",
      "Alfred Szklarski 21-01-1912 09-04-1992\n",
      "Aleksander Majkowski 17-07-1876 10-02-1938\n",
      "Ian Fleming 28-05-1908 12-08-1964\n"
     ]
    },
    {
     "data": {
      "text/plain": [
       "[#<Author id: 3, name: \"Henryk\", surname: \"Sienkiewicz\", born: \"1846-05-05\", died: \"1916-11-05\", image_url: nil>, #<Author id: 4, name: \"Eliza\", surname: \"Orzeszkowa\", born: \"1841-06-06\", died: \"1910-05-23\", image_url: nil>, #<Author id: 8, name: \"Jack\", surname: \"London\", born: \"1876-01-12\", died: \"1916-11-22\", image_url: \"http://commons.wikimedia.org/wiki/Special:FilePath...\">, #<Author id: 11, name: \"Antoni\", surname: \"Gołubiew\", born: \"1907-02-25\", died: \"1979-06-27\", image_url: \"http://commons.wikimedia.org/wiki/Special:FilePath...\">, #<Author id: 14, name: \"George\", surname: \"Orwell\", born: \"1903-06-25\", died: \"1950-01-21\", image_url: \"http://commons.wikimedia.org/wiki/Special:FilePath...\">, #<Author id: 17, name: \"John Ronald Reuel\", surname: \"Tolkien\", born: \"1892-01-03\", died: \"1973-09-02\", image_url: \"http://commons.wikimedia.org/wiki/Special:FilePath...\">, #<Author id: 19, name: \"Tadeusz\", surname: \"Dołęga-Mostowicz\", born: \"1898-08-10\", died: \"1939-09-20\", image_url: \"http://commons.wikimedia.org/wiki/Special:FilePath...\">, #<Author id: 20, name: \"Vladimir\", surname: \"Nabokov\", born: \"1899-04-22\", died: \"1977-07-02\", image_url: \"http://commons.wikimedia.org/wiki/Special:FilePath...\">, #<Author id: 21, name: \"Adolf\", surname: \"Hitler\", born: \"1889-04-20\", died: \"1945-04-30\", image_url: \"http://commons.wikimedia.org/wiki/Special:FilePath...\">, #<Author id: 24, name: \"Aldous\", surname: \"Huxley\", born: \"1894-07-26\", died: \"1963-11-22\", image_url: \"http://commons.wikimedia.org/wiki/Special:FilePath...\">, #<Author id: 26, name: \"Franz\", surname: \"Kafka\", born: \"1883-07-03\", died: \"1924-06-03\", image_url: \"http://commons.wikimedia.org/wiki/Special:FilePath...\">, #<Author id: 28, name: \"Howard Phillips\", surname: \"Lovecraft\", born: \"1890-08-20\", died: \"1937-03-15\", image_url: \"http://commons.wikimedia.org/wiki/Special:FilePath...\">, #<Author id: 29, name: \"Karol Olgierd\", surname: \"Borchardt\", born: \"1905-03-25\", died: \"1986-05-20\", image_url: \"http://commons.wikimedia.org/wiki/Special:FilePath...\">, #<Author id: 30, name: \"Lew\", surname: \"Tołstoj\", born: \"1828-09-09\", died: \"1910-11-20\", image_url: \"http://commons.wikimedia.org/wiki/Special:FilePath...\">, #<Author id: 32, name: \"Janusz\", surname: \"Zajdel\", born: \"1938-08-15\", died: \"1985-07-19\", image_url: \"http://commons.wikimedia.org/wiki/Special:FilePath...\">, #<Author id: 34, name: \"Isaac\", surname: \"Asimov\", born: \"1919-10-04\", died: \"1992-04-06\", image_url: \"http://commons.wikimedia.org/wiki/Special:FilePath...\">, #<Author id: 35, name: \"Ilja\", surname: \"Ilf\", born: \"1897-10-15\", died: \"1937-04-13\", image_url: \"http://commons.wikimedia.org/wiki/Special:FilePath...\">, #<Author id: 36, name: \"Jewgienij Pietrow\", surname: \"(pisarz)\", born: \"1903-12-13\", died: \"1942-07-02\", image_url: \"http://commons.wikimedia.org/wiki/Special:FilePath...\">, #<Author id: 37, name: \"Gabriela\", surname: \"Zapolska\", born: \"1857-03-30\", died: \"1921-12-17\", image_url: \"http://commons.wikimedia.org/wiki/Special:FilePath...\">, #<Author id: 40, name: \"Clive Staples\", surname: \"Lewis\", born: \"1898-11-29\", died: \"1963-11-22\", image_url: \"http://commons.wikimedia.org/wiki/Special:FilePath...\">, #<Author id: 46, name: \"Lucy Maud\", surname: \"Montgomery\", born: \"1874-11-30\", died: \"1942-04-24\", image_url: \"http://commons.wikimedia.org/wiki/Special:FilePath...\">, #<Author id: 48, name: \"Alfred\", surname: \"Szklarski\", born: \"1912-01-21\", died: \"1992-04-09\", image_url: \"http://commons.wikimedia.org/wiki/Special:FilePath...\">, #<Author id: 52, name: \"Aleksander\", surname: \"Majkowski\", born: \"1876-07-17\", died: \"1938-02-10\", image_url: \"http://commons.wikimedia.org/wiki/Special:FilePath...\">, #<Author id: 53, name: \"Ian\", surname: \"Fleming\", born: \"1908-05-28\", died: \"1964-08-12\", image_url: \"http://commons.wikimedia.org/wiki/Special:FilePath...\">]"
      ]
     },
     "execution_count": 85,
     "metadata": {},
     "output_type": "execute_result"
    }
   ],
   "source": [
    "def display_authors(author)\n",
    "  \"#{author.name} #{author.surname} #{author.born.strftime(\"%d-%m-%Y\")} #{author.died.strftime(\"%d-%m-%Y\")}\"\n",
    "end\n",
    "Author.where(died: (Date.parse(\"1901-1-1\")..Date.parse(\"2001-1-1\"))).each do |author|\n",
    "  puts display_authors(author)\n",
    "end\n",
    "\n"
   ]
  },
  {
   "cell_type": "markdown",
   "metadata": {},
   "source": [
    "### Zadanie 3"
   ]
  },
  {
   "cell_type": "markdown",
   "metadata": {},
   "source": [
    "Wyświetl 5 najmłodszych autorów, którzy posiadają przypisane zdjęcie."
   ]
  },
  {
   "cell_type": "code",
   "execution_count": 20,
   "metadata": {
    "collapsed": false
   },
   "outputs": [
    {
     "name": "stdout",
     "output_type": "stream",
     "text": [
      "Orson Scott Card 1951-08-24\n",
      "Boris Akunin 1956-05-20\n",
      "Rafał A. Ziemkiewicz 1964-09-13\n",
      "J. K. Rowling 1965-07-31\n",
      "Andrzej Pilipiuk 1974-03-20\n"
     ]
    },
    {
     "data": {
      "text/plain": [
       "[#<Author id: 6, name: \"Orson Scott\", surname: \"Card\", born: \"1951-08-24\", died: nil, image_url: \"http://commons.wikimedia.org/wiki/Special:FilePath...\">, #<Author id: 31, name: \"Boris\", surname: \"Akunin\", born: \"1956-05-20\", died: nil, image_url: \"http://commons.wikimedia.org/wiki/Special:FilePath...\">, #<Author id: 50, name: \"Rafał A.\", surname: \"Ziemkiewicz\", born: \"1964-09-13\", died: nil, image_url: \"http://commons.wikimedia.org/wiki/Special:FilePath...\">, #<Author id: 16, name: \"J. K.\", surname: \"Rowling\", born: \"1965-07-31\", died: nil, image_url: \"http://commons.wikimedia.org/wiki/Special:FilePath...\">, #<Author id: 41, name: \"Andrzej\", surname: \"Pilipiuk\", born: \"1974-03-20\", died: nil, image_url: \"http://commons.wikimedia.org/wiki/Special:FilePath...\">]"
      ]
     },
     "execution_count": 20,
     "metadata": {},
     "output_type": "execute_result"
    }
   ],
   "source": [
    "Author.where(\"image_url is not null\").order(:born).last(5).each do |author|\n",
    "  puts \"#{author.name} #{author.surname} #{author.born}\"\n",
    "end"
   ]
  },
  {
   "cell_type": "markdown",
   "metadata": {},
   "source": [
    "### Zadanie 4"
   ]
  },
  {
   "cell_type": "markdown",
   "metadata": {},
   "source": [
    "Zdefiniuj funkcję `display_book`, która będzie zwracała fragment kodu HTML obejmujący tytuł książki, rok jej wydania oraz\n",
    "przypisany obrazek.\n",
    "Wyświetl najwcześniej wydaną książkę."
   ]
  },
  {
   "cell_type": "code",
   "execution_count": 86,
   "metadata": {
    "collapsed": false
   },
   "outputs": [
    {
     "data": {
      "text/html": [
       "<h1>De revolutionibus orbium coelestium 1543</h1><img src=''/>"
      ],
      "text/plain": [
       "\"<h1>De revolutionibus orbium coelestium 1543</h1><img src=''/>\""
      ]
     },
     "execution_count": 86,
     "metadata": {},
     "output_type": "execute_result"
    }
   ],
   "source": [
    "def display_book(book)\n",
    "  if book.published != nil\n",
    "  \"<h1>#{book.title} #{book.published}</h1><img src='#{book.image_url}'/>\"\n",
    "  else\n",
    "    \"<h1>#{book.title} Brak danych publikacji</h1><img src='#{book.image_url}'/>\" \n",
    "  end\n",
    "end\n",
    "\n",
    "book = Book.order(:published).where(\"published is not null and published != 0\").first\n",
    "document = display_book(book)\n",
    "\n",
    "IRuby.html document\n"
   ]
  },
  {
   "cell_type": "markdown",
   "metadata": {},
   "source": [
    "### Zadanie 5"
   ]
  },
  {
   "cell_type": "markdown",
   "metadata": {},
   "source": [
    "Wyświetl wszystkie książki, które nie mają przypisanego roku wydania."
   ]
  },
  {
   "cell_type": "code",
   "execution_count": 29,
   "metadata": {
    "collapsed": false
   },
   "outputs": [
    {
     "name": "stdout",
     "output_type": "stream",
     "text": [
      "Végjáték (regény) Orson Scott Card \n",
      "Hamlet William Szekspir \n",
      "Ojcowie i dzieci Iwan Turgieniew 0\n"
     ]
    },
    {
     "data": {
      "text/plain": [
       "[#<Book id: 1, title: \"Végjáték (regény)\", language: nil, author_id: 6, published: nil, image_url: nil>, #<Book id: 10, title: \"Hamlet\", language: nil, author_id: 15, published: nil, image_url: \"http://commons.wikimedia.org/wiki/Special:FilePath...\">, #<Book id: 65, title: \"Ojcowie i dzieci\", language: nil, author_id: 43, published: 0, image_url: \"http://commons.wikimedia.org/wiki/Special:FilePath...\">]"
      ]
     },
     "execution_count": 29,
     "metadata": {},
     "output_type": "execute_result"
    }
   ],
   "source": [
    "book = Book.where(\"published is null or published == 0\")\n",
    "book.each do |book|\n",
    "  puts \"#{book.title} #{book.author.name} #{book.author.surname} #{book.published}\"\n",
    "end\n"
   ]
  },
  {
   "cell_type": "markdown",
   "metadata": {},
   "source": [
    "### Zadanie 6"
   ]
  },
  {
   "cell_type": "markdown",
   "metadata": {},
   "source": [
    "Zmodyfikuj funkcję `display_author` tak, aby wyświetlała również wszystkie książki napisane przez autora. Użyj znacznika `<ul>`.\n",
    "Korzystając z tej funkcji wyświetl opis Stanisława Lema."
   ]
  },
  {
   "cell_type": "code",
   "execution_count": 38,
   "metadata": {
    "collapsed": false
   },
   "outputs": [
    {
     "data": {
      "text/html": [
       "<h1>Stanisław Lem</h1><ul><li>Bajki robotów 1964</li><li>Solaris (powieść) 1961</li><li>Bezsenność (zbiór opowiadań) 1971</li><li>Głos Pana 1968</li><li>Inwazja z Aldebarana (zbiór opowiadań) 1959</li><li>Katar (powieść) 1976</li><li>Księga robotów 1961</li><li>Maska (zbiór dzieł) 1976</li><li>Niezwyciężony i inne opowiadania 1964</li><li>Noc księżycowa 1963</li><li>Pamiętnik znaleziony w wannie 1961</li><li>Polowanie (zbiór opowiadań) 1965</li><li>Powtórka (zbiór dzieł) 1979</li><li>Pożytek ze smoka 1993</li><li>Rasa drapieżców. Teksty ostatnie 2006</li><li>Sezam i inne opowiadania 1954</li><li>Summa technologiae 1964</li><li>Wizja lokalna (powieść) 1982</li></ul>"
      ],
      "text/plain": [
       "\"<h1>Stanisław Lem</h1><ul><li>Bajki robotów 1964</li><li>Solaris (powieść) 1961</li><li>Bezsenność (zbiór opowiadań) 1971</li><li>Głos Pana 1968</li><li>Inwazja z Aldebarana (zbiór opowiadań) 1959</li><li>Katar (powieść) 1976</li><li>Księga robotów 1961</li><li>Maska (zbiór dzieł) 1976</li><li>Niezwyciężony i inne opowiadania 1964</li><li>Noc księżycowa 1963</li><li>Pamiętnik znaleziony w wannie 1961</li><li>Polowanie (zbiór opowiadań) 1965</li><li>Powtórka (zbiór dzieł) 1979</li><li>Pożytek ze smoka 1993</li><li>Rasa drapieżców. Teksty ostatnie 2006</li><li>Sezam i inne opowiadania 1954</li><li>Summa technologiae 1964</li><li>Wizja lokalna (powieść) 1982</li></ul>\""
      ]
     },
     "execution_count": 38,
     "metadata": {},
     "output_type": "execute_result"
    }
   ],
   "source": [
    "def display_author(author)\n",
    "  author = Author.where(surname: author).first\n",
    "  books = author.books\n",
    "  html= \"<h1>#{author.name} #{author.surname}</h1>\"\n",
    "  html << \"<ul>\"\n",
    "  books.each do |book|\n",
    "    html << \"<li>#{book.title} #{book.published}</li>\"\n",
    "  end\n",
    "  html << \"</ul>\"\n",
    "end\n",
    "\n",
    "document = display_author(\"Lem\")\n",
    "IRuby.html document\n"
   ]
  },
  {
   "cell_type": "markdown",
   "metadata": {},
   "source": [
    "### Zadanie 7"
   ]
  },
  {
   "cell_type": "markdown",
   "metadata": {},
   "source": [
    "Wśród książek napisanych przez Lema wyświetl wszystkie, które zawieraja w tytule słowo \"zbiór\"."
   ]
  },
  {
   "cell_type": "code",
   "execution_count": 39,
   "metadata": {
    "collapsed": false
   },
   "outputs": [
    {
     "data": {
      "text/html": [
       "<h1>Stanisław Lem</h1><ul><li>Bezsenność (zbiór opowiadań) 1971</li><li>Inwazja z Aldebarana (zbiór opowiadań) 1959</li><li>Maska (zbiór dzieł) 1976</li><li>Polowanie (zbiór opowiadań) 1965</li><li>Powtórka (zbiór dzieł) 1979</li></ul>"
      ],
      "text/plain": [
       "\"<h1>Stanisław Lem</h1><ul><li>Bezsenność (zbiór opowiadań) 1971</li><li>Inwazja z Aldebarana (zbiór opowiadań) 1959</li><li>Maska (zbiór dzieł) 1976</li><li>Polowanie (zbiór opowiadań) 1965</li><li>Powtórka (zbiór dzieł) 1979</li></ul>\""
      ]
     },
     "execution_count": 39,
     "metadata": {},
     "output_type": "execute_result"
    }
   ],
   "source": [
    "def display_author(author)\n",
    "  author = Author.where(surname: author).first\n",
    "  books = author.books.where(\"title like '%zbiór%'\")\n",
    "  html= \"<h1>#{author.name} #{author.surname}</h1>\"\n",
    "  html << \"<ul>\"\n",
    "  books.each do |book|\n",
    "    html << \"<li>#{book.title} #{book.published}</li>\"\n",
    "  end\n",
    "  html << \"</ul>\"\n",
    "end\n",
    "\n",
    "document = display_author(\"Lem\")\n",
    "IRuby.html document\n"
   ]
  },
  {
   "cell_type": "markdown",
   "metadata": {},
   "source": [
    "### Zadanie 8"
   ]
  },
  {
   "cell_type": "markdown",
   "metadata": {},
   "source": [
    "Wśród książek napisanych przez Lema wyświetl te, które zostały wydane w roku jego śmierci."
   ]
  },
  {
   "cell_type": "code",
   "execution_count": 44,
   "metadata": {
    "collapsed": false
   },
   "outputs": [
    {
     "data": {
      "text/html": [
       "<h1>Stanisław Lem</h1><ul><li>Rasa drapieżców. Teksty ostatnie 2006</li></ul>"
      ],
      "text/plain": [
       "\"<h1>Stanisław Lem</h1><ul><li>Rasa drapieżców. Teksty ostatnie 2006</li></ul>\""
      ]
     },
     "execution_count": 44,
     "metadata": {},
     "output_type": "execute_result"
    }
   ],
   "source": [
    "def display_author(author)\n",
    "  author = Author.where(surname: author).first\n",
    "  books = author.books.where(\"published = ?\",author.died.year)\n",
    "  html= \"<h1>#{author.name} #{author.surname}</h1>\"\n",
    "  html << \"<ul>\"\n",
    "  books.each do |book|\n",
    "    html << \"<li>#{book.title} #{book.published}</li>\"\n",
    "  end\n",
    "  html << \"</ul>\"\n",
    "end\n",
    "\n",
    "document = display_author(\"Lem\")\n",
    "IRuby.html document"
   ]
  },
  {
   "cell_type": "markdown",
   "metadata": {},
   "source": [
    "### Zadanie 9"
   ]
  },
  {
   "cell_type": "markdown",
   "metadata": {},
   "source": [
    "Wyświetl wszystkie książki znajdujące się w bazie. Opis powinien zawierać tytuł, imię i nazwisko autora, rok wydania oraz \n",
    "obraz przedstawiający książkę (o ile istnieje)."
   ]
  },
  {
   "cell_type": "code",
   "execution_count": 53,
   "metadata": {
    "collapsed": false
   },
   "outputs": [
    {
     "data": {
      "text/html": [
       "<h1>Lista książek</h1><li>Végjáték (regény) Orson Scott Card <li>Pani Jeziora (powieść) Andrzej Sapkowski 1999<li>Bellew Zawierucha Jack London 1912<li>Fałszywy trop (powieść) Henning Mankell 1995<li>Bajki robotów Stanisław Lem 1964<li>Bolesław Chrobry (powieść) Antoni Gołubiew 1947<li>De revolutionibus orbium coelestium Mikołaj Kopernik 1543<li>Dzieło Wielkiego Miłosierdzia Maria Franciszka Kozłowska 1922<li>Folwark zwierzęcy George Orwell 1945 <img src='http://commons.wikimedia.org/wiki/Special:FilePath/Animalism_flag.svg?width=300'/><li>Hamlet William Szekspir  <img src='http://commons.wikimedia.org/wiki/Special:FilePath/Hamlet_quarto_3rd.jpg?width=300'/><li>Harry Potter J. K. Rowling 1997 <img src='http://commons.wikimedia.org/wiki/Special:FilePath/Harry_Potter_wordmark.svg?width=300'/><li>Hobbit, czyli tam i z powrotem John Ronald Reuel Tolkien 1937<li>Hrabia Monte Christo Aleksander Dumas (ojciec) 1844 <img src='http://commons.wikimedia.org/wiki/Special:FilePath/Louis_Français-Dantès_sur_son_rocher.jpg?width=300'/><li>Kariera Nikodema Dyzmy Tadeusz Dołęga-Mostowicz 1932<li>Krzyżacy (powieść) Henryk Sienkiewicz 1900 <img src='http://commons.wikimedia.org/wiki/Special:FilePath/PL_Henryk_Sienkiewicz-Krzyżacy_0005.jpeg?width=300'/><li>Lolita Vladimir Nabokov 1955<li>Mein Kampf Adolf Hitler 1925 <img src='http://commons.wikimedia.org/wiki/Special:FilePath/Landsberg.Jail.jpg?width=300'/><li>Nad Niemnem Eliza Orzeszkowa 1888 <img src='http://commons.wikimedia.org/wiki/Special:FilePath/Nad_Niemnem_-_manuscript.jpg?width=300'/><li>Niedokończone opowieści Christopher Tolkien 1980<li>Nowe Ateny Benedykt Chmielowski 1745 <img src='http://commons.wikimedia.org/wiki/Special:FilePath/Nowe_ateny1.jpg?width=300'/><li>Nowy wspaniały świat Aldous Huxley 1932<li>Ogniem i mieczem Henryk Sienkiewicz 1884 <img src='http://commons.wikimedia.org/wiki/Special:FilePath/Podbipieta.JPG?width=300'/><li>Ojciec Goriot Honoré de Balzac 1835 <img src='http://commons.wikimedia.org/wiki/Special:FilePath/Father_Goriot_by_H._Daumier_(1842).JPG?width=300'/><li>Proces (powieść) Franz Kafka 1925 <img src='http://commons.wikimedia.org/wiki/Special:FilePath/Kafka_Der_Prozess_1925.jpg?width=300'/><li>Psałterz Dawidów Jan Kochanowski 1579 <img src='http://commons.wikimedia.org/wiki/Special:FilePath/Kochanowski_-_Psałterz_Dawidów_(1579).jpg?width=300'/><li>Quo vadis Henryk Sienkiewicz 1896 <img src='http://commons.wikimedia.org/wiki/Special:FilePath/Rzym_popiersie_Sienkiewicza_w_kosciele_Domine_Quo_Vadis.JPG?width=300'/><li>Romeo i Julia William Szekspir 1597 <img src='http://commons.wikimedia.org/wiki/Special:FilePath/Romeo_and_juliet_brown.jpg?width=300'/><li>Silmarillion John Ronald Reuel Tolkien 1977 <img src='http://commons.wikimedia.org/wiki/Special:FilePath/Silmarrillion,_Just_under_the_Cover.jpg?width=300'/><li>Solaris (powieść) Stanisław Lem 1961 <img src='http://commons.wikimedia.org/wiki/Special:FilePath/Solaris,_various_editions_02.jpg?width=300'/><li>Władca Pierścieni John Ronald Reuel Tolkien 1954 <img src='http://commons.wikimedia.org/wiki/Special:FilePath/Unico_Anello.png?width=300'/><li>Zew Cthulhu (opowiadanie) Howard Phillips Lovecraft 1928<li>Znaczy Kapitan Karol Olgierd Borchardt 1960<li>Anna Karenina Lew Tołstoj 1877 <img src='http://commons.wikimedia.org/wiki/Special:FilePath/AnnaKareninaTitle.jpg?width=300'/><li>Azazel (powieść) Boris Akunin 1998<li>Bezsenność (zbiór opowiadań) Stanisław Lem 1971<li>Cała prawda o planecie Ksi Janusz Zajdel 1983<li>Dekorator Boris Akunin 1998<li>Diamentowa karoca Boris Akunin 2003<li>Dives in misericordia Jan Paweł II 1980 <img src='http://commons.wikimedia.org/wiki/Special:FilePath/John_paul_2_coa.svg?width=300'/><li>Droga na molo w Wigan George Orwell 1937<li>Druga Fundacja Isaac Asimov 1953<li>Dwanaście krzeseł Ilja Ilf 1928 <img src='http://commons.wikimedia.org/wiki/Special:FilePath/Ostap_Bender_Monument_in_Kharkiv.jpg?width=300'/><li>Fundacja (powieść) Isaac Asimov 1951<li>Fundacja i Imperium Isaac Asimov 1952<li>Gambit turecki Boris Akunin 1998<li>Głos Pana Stanisław Lem 1968<li>Ich czworo Gabriela Zapolska 1907<li>Inwazja z Aldebarana (zbiór opowiadań) Stanisław Lem 1959<li>Kamienna małpa Jeffery Deaver 2002<li>Katar (powieść) Stanisław Lem 1976<li>Kochanek Śmierci Boris Akunin 2001<li>Kochanka Śmierci Boris Akunin 2001<li>Koronacja (powieść) Boris Akunin 1999<li>Kot w stanie czystym Terry Pratchett 1989<li>Koń i jego chłopiec Clive Staples Lewis 1954<li>Księga robotów Stanisław Lem 1961<li>Księgi narodu polskiego i pielgrzymstwa polskiego Adam Mickiewicz 1832 <img src='http://commons.wikimedia.org/wiki/Special:FilePath/PL_Księgi_narodu_polskiego_i_pielgrzymstwa_polskiego_008.png?width=300'/><li>Kuzynki Andrzej Pilipiuk 2003<li>Lewa ręka ciemności Ursula K. Le Guin 1969<li>Lewiatan (powieść) Boris Akunin 1998<li>Mag (powieść J. Deavera) Jeffery Deaver 2003<li>Maska (zbiór dzieł) Stanisław Lem 1976<li>Niezwyciężony i inne opowiadania Stanisław Lem 1964<li>Noc księżycowa Stanisław Lem 1963<li>Ojcowie i dzieci Iwan Turgieniew 0 <img src='http://commons.wikimedia.org/wiki/Special:FilePath/Otsy1880.jpg?width=300'/><li>Pamiętnik znaleziony w wannie Stanisław Lem 1961<li>Pieśń Lodu i Ognia George R. R. Martin 1996<li>Podróże z Herodotem Ryszard Kapuściński 2004<li>Polowanie (zbiór opowiadań) Stanisław Lem 1965<li>Powtórka (zbiór dzieł) Stanisław Lem 1979<li>Pożytek ze smoka Stanisław Lem 1993<li>Preludium Fundacji Isaac Asimov 1988<li>Radca stanu (powieść) Boris Akunin 1998<li>Rasa drapieżców. Teksty ostatnie Stanisław Lem 2006<li>Rilla ze Złotego Brzegu Lucy Maud Montgomery 1921<li>Sen nocy letniej William Szekspir 1600 <img src='http://commons.wikimedia.org/wiki/Special:FilePath/MND_title_page.jpg?width=300'/><li>Sezam i inne opowiadania Stanisław Lem 1954<li>Slavorum apostoli Jan Paweł II 1985 <img src='http://commons.wikimedia.org/wiki/Special:FilePath/John_paul_2_coa.svg?width=300'/><li>Summa technologiae Stanisław Lem 1964<li>Tam gdzie spadają anioły Dorota Terakowska 1998<li>Tomek u źródeł Amazonki Alfred Szklarski 1967<li>Tomek w Gran Chaco Alfred Szklarski 1987<li>Tomek w grobowcach faraonów Alfred Szklarski 1994<li>Ut unum sint Jan Paweł II 1995 <img src='http://commons.wikimedia.org/wiki/Special:FilePath/John_paul_2_coa.svg?width=300'/><li>Veritatis splendor Jan Paweł II 1993 <img src='http://commons.wikimedia.org/wiki/Special:FilePath/John_paul_2_coa.svg?width=300'/><li>Walc stulecia Rafał A. Ziemkiewicz 1998<li>Walet pikowy (powieść) Boris Akunin 1998<li>Wampir Lestat Anne Rice 1985<li>Wizja lokalna (powieść) Stanisław Lem 1982<li>Wojna i pokój Lew Tołstoj 1865 <img src='http://commons.wikimedia.org/wiki/Special:FilePath/War-and-peace_1873.gif?width=300'/><li>Śmierć Achillesa Boris Akunin 1998<li>Życie i przygody Remusa Aleksander Majkowski 1938<li>Casino Royale (powieść) Ian Fleming 1953<li>Cień kata Gene Wolfe 1980<li>Czarnoksiężnik z Archipelagu Ursula K. Le Guin 1968<li>Czarownica z Portobello Paulo Coelho 2006<li>Czas patriotów (powieść) Tom Clancy 1987</li>"
      ],
      "text/plain": [
       "\"<h1>Lista książek</h1><li>Végjáték (regény) Orson Scott Card <li>Pani Jeziora (powieść) Andrzej Sapkowski 1999<li>Bellew Zawierucha Jack London 1912<li>Fałszywy trop (powieść) Henning Mankell 1995<li>Bajki robotów Stanisław Lem 1964<li>Bolesław Chrobry (powieść) Antoni Gołubiew 1947<li>De revolutionibus orbium coelestium Mikołaj Kopernik 1543<li>Dzieło Wielkiego Miłosierdzia Maria Franciszka Kozłowska 1922<li>Folwark zwierzęcy George Orwell 1945 <img src='http://commons.wikimedia.org/wiki/Special:FilePath/Animalism_flag.svg?width=300'/><li>Hamlet William Szekspir  <img src='http://commons.wikimedia.org/wiki/Special:FilePath/Hamlet_quarto_3rd.jpg?width=300'/><li>Harry Potter J. K. Rowling 1997 <img src='http://commons.wikimedia.org/wiki/Special:FilePath/Harry_Potter_wordmark.svg?width=300'/><li>Hobbit, czyli tam i z powrotem John Ronald Reuel Tolkien 1937<li>Hrabia Monte Christo Aleksander Dumas (ojciec) 1844 <img src='http://commons.wikimedia.org/wiki/Special:FilePath/Louis_Français-Dantès_sur_son_rocher.jpg?width=300'/><li>Kariera Nikodema Dyzmy Tadeusz Dołęga-Mostowicz 1932<li>Krzyżacy (powieść) Henryk Sienkiewicz 1900 <img src='http://commons.wikimedia.org/wiki/Special:FilePath/PL_Henryk_Sienkiewicz-Krzyżacy_0005.jpeg?width=300'/><li>Lolita Vladimir Nabokov 1955<li>Mein Kampf Adolf Hitler 1925 <img src='http://commons.wikimedia.org/wiki/Special:FilePath/Landsberg.Jail.jpg?width=300'/><li>Nad Niemnem Eliza Orzeszkowa 1888 <img src='http://commons.wikimedia.org/wiki/Special:FilePath/Nad_Niemnem_-_manuscript.jpg?width=300'/><li>Niedokończone opowieści Christopher Tolkien 1980<li>Nowe Ateny Benedykt Chmielowski 1745 <img src='http://commons.wikimedia.org/wiki/Special:FilePath/Nowe_ateny1.jpg?width=300'/><li>Nowy wspaniały świat Aldous Huxley 1932<li>Ogniem i mieczem Henryk Sienkiewicz 1884 <img src='http://commons.wikimedia.org/wiki/Special:FilePath/Podbipieta.JPG?width=300'/><li>Ojciec Goriot Honoré de Balzac 1835 <img src='http://commons.wikimedia.org/wiki/Special:FilePath/Father_Goriot_by_H._Daumier_(1842).JPG?width=300'/><li>Proces (powieść) Franz Kafka 1925 <img src='http://commons.wikimedia.org/wiki/Special:FilePath/Kafka_Der_Prozess_1925.jpg?width=300'/><li>Psałterz Dawidów Jan Kochanowski 1579 <img src='http://commons.wikimedia.org/wiki/Special:FilePath/Kochanowski_-_Psałterz_Dawidów_(1579).jpg?width=300'/><li>Quo vadis Henryk Sienkiewicz 1896 <img src='http://commons.wikimedia.org/wiki/Special:FilePath/Rzym_popiersie_Sienkiewicza_w_kosciele_Domine_Quo_Vadis.JPG?width=300'/><li>Romeo i Julia William Szekspir 1597 <img src='http://commons.wikimedia.org/wiki/Special:FilePath/Romeo_and_juliet_brown.jpg?width=300'/><li>Silmarillion John Ronald Reuel Tolkien 1977 <img src='http://commons.wikimedia.org/wiki/Special:FilePath/Silmarrillion,_Just_under_the_Cover.jpg?width=300'/><li>Solaris (powieść) Stanisław Lem 1961 <img src='http://commons.wikimedia.org/wiki/Special:FilePath/Solaris,_various_editions_02.jpg?width=300'/><li>Władca Pierścieni John Ronald Reuel Tolkien 1954 <img src='http://commons.wikimedia.org/wiki/Special:FilePath/Unico_Anello.png?width=300'/><li>Zew Cthulhu (opowiadanie) Howard Phillips Lovecraft 1928<li>Znaczy Kapitan Karol Olgierd Borchardt 1960<li>Anna Karenina Lew Tołstoj 1877 <img src='http://commons.wikimedia.org/wiki/Special:FilePath/AnnaKareninaTitle.jpg?width=300'/><li>Azazel (powieść) Boris Akunin 1998<li>Bezsenność (zbiór opowiadań) Stanisław Lem 1971<li>Cała prawda o planecie Ksi Janusz Zajdel 1983<li>Dekorator Boris Akunin 1998<li>Diamentowa karoca Boris Akunin 2003<li>Dives in misericordia Jan Paweł II 1980 <img src='http://commons.wikimedia.org/wiki/Special:FilePath/John_paul_2_coa.svg?width=300'/><li>Droga na molo w Wigan George Orwell 1937<li>Druga Fundacja Isaac Asimov 1953<li>Dwanaście krzeseł Ilja Ilf 1928 <img src='http://commons.wikimedia.org/wiki/Special:FilePath/Ostap_Bender_Monument_in_Kharkiv.jpg?width=300'/><li>Fundacja (powieść) Isaac Asimov 1951<li>Fundacja i Imperium Isaac Asimov 1952<li>Gambit turecki Boris Akunin 1998<li>Głos Pana Stanisław Lem 1968<li>Ich czworo Gabriela Zapolska 1907<li>Inwazja z Aldebarana (zbiór opowiadań) Stanisław Lem 1959<li>Kamienna małpa Jeffery Deaver 2002<li>Katar (powieść) Stanisław Lem 1976<li>Kochanek Śmierci Boris Akunin 2001<li>Kochanka Śmierci Boris Akunin 2001<li>Koronacja (powieść) Boris Akunin 1999<li>Kot w stanie czystym Terry Pratchett 1989<li>Koń i jego chłopiec Clive Staples Lewis 1954<li>Księga robotów Stanisław Lem 1961<li>Księgi narodu polskiego i pielgrzymstwa polskiego Adam Mickiewicz 1832 <img src='http://commons.wikimedia.org/wiki/Special:FilePath/PL_Księgi_narodu_polskiego_i_pielgrzymstwa_polskiego_008.png?width=300'/><li>Kuzynki Andrzej Pilipiuk 2003<li>Lewa ręka ciemności Ursula K. Le Guin 1969<li>Lewiatan (powieść) Boris Akunin 1998<li>Mag (powieść J. Deavera) Jeffery Deaver 2003<li>Maska (zbiór dzieł) Stanisław Lem 1976<li>Niezwyciężony i inne opowiadania Stanisław Lem 1964<li>Noc księżycowa Stanisław Lem 1963<li>Ojcowie i dzieci Iwan Turgieniew 0 <img src='http://commons.wikimedia.org/wiki/Special:FilePath/Otsy1880.jpg?width=300'/><li>Pamiętnik znaleziony w wannie Stanisław Lem 1961<li>Pieśń Lodu i Ognia George R. R. Martin 1996<li>Podróże z Herodotem Ryszard Kapuściński 2004<li>Polowanie (zbiór opowiadań) Stanisław Lem 1965<li>Powtórka (zbiór dzieł) Stanisław Lem 1979<li>Pożytek ze smoka Stanisław Lem 1993<li>Preludium Fundacji Isaac Asimov 1988<li>Radca stanu (powieść) Boris Akunin 1998<li>Rasa drapieżców. Teksty ostatnie Stanisław Lem 2006<li>Rilla ze Złotego Brzegu Lucy Maud Montgomery 1921<li>Sen nocy letniej William Szekspir 1600 <img src='http://commons.wikimedia.org/wiki/Special:FilePath/MND_title_page.jpg?width=300'/><li>Sezam i inne opowiadania Stanisław Lem 1954<li>Slavorum apostoli Jan Paweł II 1985 <img src='http://commons.wikimedia.org/wiki/Special:FilePath/John_paul_2_coa.svg?width=300'/><li>Summa technologiae Stanisław Lem 1964<li>Tam gdzie spadają anioły Dorota Terakowska 1998<li>Tomek u źródeł Amazonki Alfred Szklarski 1967<li>Tomek w Gran Chaco Alfred Szklarski 1987<li>Tomek w grobowcach faraonów Alfred Szklarski 1994<li>Ut unum sint Jan Paweł II 1995 <img src='http://commons.wikimedia.org/wiki/Special:FilePath/John_paul_2_coa.svg?width=300'/><li>Veritatis splendor Jan Paweł II 1993 <img src='http://commons.wikimedia.org/wiki/Special:FilePath/John_paul_2_coa.svg?width=300'/><li>Walc stulecia Rafał A. Ziemkiewicz 1998<li>Walet pikowy (powieść) Boris Akunin 1998<li>Wampir Lestat Anne Rice 1985<li>Wizja lokalna (powieść) Stanisław Lem 1982<li>Wojna i pokój Lew Tołstoj 1865 <img src='http://commons.wikimedia.org/wiki/Special:FilePath/War-and-peace_1873.gif?width=300'/><li>Śmierć Achillesa Boris Akunin 1998<li>Życie i przygody Remusa Aleksander Majkowski 1938<li>Casino Royale (powieść) Ian Fleming 1953<li>Cień kata Gene Wolfe 1980<li>Czarnoksiężnik z Archipelagu Ursula K. Le Guin 1968<li>Czarownica z Portobello Paulo Coelho 2006<li>Czas patriotów (powieść) Tom Clancy 1987</li>\""
      ]
     },
     "execution_count": 53,
     "metadata": {},
     "output_type": "execute_result"
    }
   ],
   "source": [
    "def display_books()\n",
    "  books = Book.all\n",
    "  ksiazka = \"<h1>Lista książek</h1>\"\n",
    "  books.each do |book|\n",
    "    ksiazka << \"<li>\"\n",
    "    ksiazka << \"#{book.title} #{book.author.name} #{book.author.surname} #{book.published}\"\n",
    "    if (book.image_url != nil)\n",
    "      ksiazka << \" <img src='#{book.image_url}'/>\"\n",
    "    end\n",
    "  end\n",
    "  ksiazka << \"</li>\"\n",
    "end\n",
    "\n",
    "document = display_books()\n",
    "IRuby.html document\n"
   ]
  },
  {
   "cell_type": "markdown",
   "metadata": {},
   "source": [
    "### Zadanie 10"
   ]
  },
  {
   "cell_type": "markdown",
   "metadata": {},
   "source": [
    "Wyświetl wszystkich autorów znajdujących się w bazie wraz z opisem zawierającym ich zdjęcie, datę urodzin i śmierci oraz spis \n",
    "opublikowanych książek. Pamiętaj o odpowiednim sformatowaniu dat oraz o tym, że nie wszyscy autorzy mają przypisane wszystkie\n",
    "informacje."
   ]
  },
  {
   "cell_type": "code",
   "execution_count": 78,
   "metadata": {
    "collapsed": false
   },
   "outputs": [
    {
     "data": {
      "text/html": [
       "<h1>Lista autorów</h1><h2>Autor</h2><li>Juliusz Słowacki<br />Brak danych<h2>Autor</h2><li>Henryk Sienkiewicz<br /><b>Lista jego/jej książek</b><li> Krzyżacy (powieść) 1900 </li><li> Ogniem i mieczem 1884 </li><li> Quo vadis 1896 </li><h2>Autor</h2><li>Eliza Orzeszkowa<br /><b>Lista jego/jej książek</b><li> Nad Niemnem 1888 </li><h2>Autor</h2><li>Adam Mickiewicz<br /><b>Lista jego/jej książek</b><li> Księgi narodu polskiego i pielgrzymstwa polskiego 1832 </li><h2>Autor</h2><li>Orson Scott Card <img src='http://commons.wikimedia.org/wiki/Special:FilePath/Orson_Scott_Card_at_BYU_Symposium_20080216_closeup.jpg?width=300'/><br /><b>Lista jego/jej książek</b><li> Végjáték (regény)  </li><h2>Autor</h2><li>Andrzej Sapkowski <img src='http://commons.wikimedia.org/wiki/Special:FilePath/Sapkowski.jpg?width=300'/><br /><b>Lista jego/jej książek</b><li> Pani Jeziora (powieść) 1999 </li><h2>Autor</h2><li>Jack London <img src='http://commons.wikimedia.org/wiki/Special:FilePath/JackLondon02.jpeg?width=300'/><br /><b>Lista jego/jej książek</b><li> Bellew Zawierucha 1912 </li><h2>Autor</h2><li>Henning Mankell <img src='http://commons.wikimedia.org/wiki/Special:FilePath/Henning_Mankell_3_2011_Shankbone.jpg?width=300'/><br /><b>Lista jego/jej książek</b><li> Fałszywy trop (powieść) 1995 </li><h2>Autor</h2><li>Stanisław Lem <img src='http://commons.wikimedia.org/wiki/Special:FilePath/Stanislaw_Lem_2.jpg?width=300'/><br /><b>Lista jego/jej książek</b><li> Bajki robotów 1964 </li><li> Solaris (powieść) 1961 </li><li> Bezsenność (zbiór opowiadań) 1971 </li><li> Głos Pana 1968 </li><li> Inwazja z Aldebarana (zbiór opowiadań) 1959 </li><li> Katar (powieść) 1976 </li><li> Księga robotów 1961 </li><li> Maska (zbiór dzieł) 1976 </li><li> Niezwyciężony i inne opowiadania 1964 </li><li> Noc księżycowa 1963 </li><li> Pamiętnik znaleziony w wannie 1961 </li><li> Polowanie (zbiór opowiadań) 1965 </li><li> Powtórka (zbiór dzieł) 1979 </li><li> Pożytek ze smoka 1993 </li><li> Rasa drapieżców. Teksty ostatnie 2006 </li><li> Sezam i inne opowiadania 1954 </li><li> Summa technologiae 1964 </li><li> Wizja lokalna (powieść) 1982 </li><h2>Autor</h2><li>Antoni Gołubiew <img src='http://commons.wikimedia.org/wiki/Special:FilePath/Antoni_Golubiew.jpg?width=300'/><br /><b>Lista jego/jej książek</b><li> Bolesław Chrobry (powieść) 1947 </li><h2>Autor</h2><li>Mikołaj Kopernik <img src='http://commons.wikimedia.org/wiki/Special:FilePath/Nikolaus_Kopernikus.jpg?width=300'/><br /><b>Lista jego/jej książek</b><li> De revolutionibus orbium coelestium 1543 </li><h2>Autor</h2><li>Maria Franciszka Kozłowska <img src='http://commons.wikimedia.org/wiki/Special:FilePath/Mateczk_Kozłowska.JPG?width=300'/><br /><b>Lista jego/jej książek</b><li> Dzieło Wielkiego Miłosierdzia 1922 </li><h2>Autor</h2><li>George Orwell <img src='http://commons.wikimedia.org/wiki/Special:FilePath/GeoreOrwell.jpg?width=300'/><br /><b>Lista jego/jej książek</b><li> Folwark zwierzęcy 1945 </li><li> Droga na molo w Wigan 1937 </li><h2>Autor</h2><li>William Szekspir <img src='http://commons.wikimedia.org/wiki/Special:FilePath/Shakespeare.jpg?width=300'/><br /><b>Lista jego/jej książek</b><li> Hamlet  </li><li> Romeo i Julia 1597 </li><li> Sen nocy letniej 1600 </li><h2>Autor</h2><li>J. K. Rowling <img src='http://commons.wikimedia.org/wiki/Special:FilePath/J._K._Rowling_2010.jpg?width=300'/><br /><b>Lista jego/jej książek</b><li> Harry Potter 1997 </li><h2>Autor</h2><li>John Ronald Reuel Tolkien <img src='http://commons.wikimedia.org/wiki/Special:FilePath/Tolkien_1916.jpg?width=300'/><br /><b>Lista jego/jej książek</b><li> Hobbit, czyli tam i z powrotem 1937 </li><li> Silmarillion 1977 </li><li> Władca Pierścieni 1954 </li><h2>Autor</h2><li>Aleksander Dumas (ojciec) <img src='http://commons.wikimedia.org/wiki/Special:FilePath/Dumas_by_Nadar,_1855.jpg?width=300'/><br /><b>Lista jego/jej książek</b><li> Hrabia Monte Christo 1844 </li><h2>Autor</h2><li>Tadeusz Dołęga-Mostowicz <img src='http://commons.wikimedia.org/wiki/Special:FilePath/Tadeusz_Dolega-Mostowicz.jpg?width=300'/><br /><b>Lista jego/jej książek</b><li> Kariera Nikodema Dyzmy 1932 </li><h2>Autor</h2><li>Vladimir Nabokov <img src='http://commons.wikimedia.org/wiki/Special:FilePath/Monument_Nabokov_Montreux_23.12.2006.jpg?width=300'/><br /><b>Lista jego/jej książek</b><li> Lolita 1955 </li><h2>Autor</h2><li>Adolf Hitler <img src='http://commons.wikimedia.org/wiki/Special:FilePath/Hitler_portrait_crop.jpg?width=300'/><br /><b>Lista jego/jej książek</b><li> Mein Kampf 1925 </li><h2>Autor</h2><li>Christopher Tolkien<br /><b>Lista jego/jej książek</b><li> Niedokończone opowieści 1980 </li><h2>Autor</h2><li>Benedykt Chmielowski <img src='http://commons.wikimedia.org/wiki/Special:FilePath/POL_COA_Nałęcz.svg?width=300'/><br /><b>Lista jego/jej książek</b><li> Nowe Ateny 1745 </li><h2>Autor</h2><li>Aldous Huxley <img src='http://commons.wikimedia.org/wiki/Special:FilePath/Aldous_Huxley.JPG?width=300'/><br /><b>Lista jego/jej książek</b><li> Nowy wspaniały świat 1932 </li><h2>Autor</h2><li>Honoré de Balzac <img src='http://commons.wikimedia.org/wiki/Special:FilePath/HBalzac.jpg?width=300'/><br /><b>Lista jego/jej książek</b><li> Ojciec Goriot 1835 </li><h2>Autor</h2><li>Franz Kafka <img src='http://commons.wikimedia.org/wiki/Special:FilePath/Kafka1906.jpg?width=300'/><br /><b>Lista jego/jej książek</b><li> Proces (powieść) 1925 </li><h2>Autor</h2><li>Jan Kochanowski <img src='http://commons.wikimedia.org/wiki/Special:FilePath/Jan_Kochanowski.png?width=300'/><br /><b>Lista jego/jej książek</b><li> Psałterz Dawidów 1579 </li><h2>Autor</h2><li>Howard Phillips Lovecraft <img src='http://commons.wikimedia.org/wiki/Special:FilePath/Howard_Phillips_Lovecraft_in_1915.jpg?width=300'/><br /><b>Lista jego/jej książek</b><li> Zew Cthulhu (opowiadanie) 1928 </li><h2>Autor</h2><li>Karol Olgierd Borchardt <img src='http://commons.wikimedia.org/wiki/Special:FilePath/Karol_Olgierd_Borchardt's_house_in_Gdynia.jpg?width=300'/><br /><b>Lista jego/jej książek</b><li> Znaczy Kapitan 1960 </li><h2>Autor</h2><li>Lew Tołstoj <img src='http://commons.wikimedia.org/wiki/Special:FilePath/Ilya_Efimovich_Repin_(1844-1930)_-_Portrait_of_Leo_Tolstoy_(1887).jpg?width=300'/><br /><b>Lista jego/jej książek</b><li> Anna Karenina 1877 </li><li> Wojna i pokój 1865 </li><h2>Autor</h2><li>Boris Akunin <img src='http://commons.wikimedia.org/wiki/Special:FilePath/Boris_Akunin_2012.jpg?width=300'/><br /><b>Lista jego/jej książek</b><li> Azazel (powieść) 1998 </li><li> Dekorator 1998 </li><li> Diamentowa karoca 2003 </li><li> Gambit turecki 1998 </li><li> Kochanek Śmierci 2001 </li><li> Kochanka Śmierci 2001 </li><li> Koronacja (powieść) 1999 </li><li> Lewiatan (powieść) 1998 </li><li> Radca stanu (powieść) 1998 </li><li> Walet pikowy (powieść) 1998 </li><li> Śmierć Achillesa 1998 </li><h2>Autor</h2><li>Janusz Zajdel <img src='http://commons.wikimedia.org/wiki/Special:FilePath/Janusz_A_Zajdel.jpg?width=300'/><br /><b>Lista jego/jej książek</b><li> Cała prawda o planecie Ksi 1983 </li><h2>Autor</h2><li>Jan Paweł II <img src='http://commons.wikimedia.org/wiki/Special:FilePath/John_Paul_II_Medal_of_Freedom_2004.jpg?width=300'/><br /><b>Lista jego/jej książek</b><li> Dives in misericordia 1980 </li><li> Slavorum apostoli 1985 </li><li> Ut unum sint 1995 </li><li> Veritatis splendor 1993 </li><h2>Autor</h2><li>Isaac Asimov <img src='http://commons.wikimedia.org/wiki/Special:FilePath/Isaac.Asimov01.jpg?width=300'/><br /><b>Lista jego/jej książek</b><li> Druga Fundacja 1953 </li><li> Fundacja (powieść) 1951 </li><li> Fundacja i Imperium 1952 </li><li> Preludium Fundacji 1988 </li><h2>Autor</h2><li>Ilja Ilf <img src='http://commons.wikimedia.org/wiki/Special:FilePath/Ilya_Ilf.jpg?width=300'/><br /><b>Lista jego/jej książek</b><li> Dwanaście krzeseł 1928 </li><h2>Autor</h2><li>Jewgienij Pietrow (pisarz) <img src='http://commons.wikimedia.org/wiki/Special:FilePath/Yevgeny_Petrov.jpg?width=300'/><br />Brak danych<h2>Autor</h2><li>Gabriela Zapolska <img src='http://commons.wikimedia.org/wiki/Special:FilePath/Gabriela_Zapolska.PNG?width=300'/><br /><b>Lista jego/jej książek</b><li> Ich czworo 1907 </li><h2>Autor</h2><li>Jeffery Deaver <img src='http://commons.wikimedia.org/wiki/Special:FilePath/Jeffery_Deaver_October_2006.jpg?width=300'/><br /><b>Lista jego/jej książek</b><li> Kamienna małpa 2002 </li><li> Mag (powieść J. Deavera) 2003 </li><h2>Autor</h2><li>Terry Pratchett <img src='http://commons.wikimedia.org/wiki/Special:FilePath/Terry_Pratchett,_September_2009_1.jpg?width=300'/><br /><b>Lista jego/jej książek</b><li> Kot w stanie czystym 1989 </li><h2>Autor</h2><li>Clive Staples Lewis <img src='http://commons.wikimedia.org/wiki/Special:FilePath/Statue_of_C.S._Lewis,_Belfast.jpg?width=300'/><br /><b>Lista jego/jej książek</b><li> Koń i jego chłopiec 1954 </li><h2>Autor</h2><li>Andrzej Pilipiuk <img src='http://commons.wikimedia.org/wiki/Special:FilePath/Andrzej_Pilipiuk-Polcon2006.jpg?width=300'/><br /><b>Lista jego/jej książek</b><li> Kuzynki 2003 </li><h2>Autor</h2><li>Ursula K. Le Guin <img src='http://commons.wikimedia.org/wiki/Special:FilePath/UrsulaLeGuin.01.jpg?width=300'/><br /><b>Lista jego/jej książek</b><li> Lewa ręka ciemności 1969 </li><li> Czarnoksiężnik z Archipelagu 1968 </li><h2>Autor</h2><li>Iwan Turgieniew <img src='http://commons.wikimedia.org/wiki/Special:FilePath/Turgenev_by_Repin.jpg?width=300'/><br /><b>Lista jego/jej książek</b><li> Ojcowie i dzieci 0 </li><h2>Autor</h2><li>George R. R. Martin <img src='http://commons.wikimedia.org/wiki/Special:FilePath/George_R_R_Martin_2011_Shankbone.JPG?width=300'/><br /><b>Lista jego/jej książek</b><li> Pieśń Lodu i Ognia 1996 </li><h2>Autor</h2><li>Ryszard Kapuściński <img src='http://commons.wikimedia.org/wiki/Special:FilePath/Ryszard_Kapuscinski_by_Kubik_17.05.1997_-_cropped.jpg?width=300'/><br /><b>Lista jego/jej książek</b><li> Podróże z Herodotem 2004 </li><h2>Autor</h2><li>Lucy Maud Montgomery <img src='http://commons.wikimedia.org/wiki/Special:FilePath/Lucy_Maud_Montgomery.JPG?width=300'/><br /><b>Lista jego/jej książek</b><li> Rilla ze Złotego Brzegu 1921 </li><h2>Autor</h2><li>Dorota Terakowska <img src='http://commons.wikimedia.org/wiki/Special:FilePath/Dorota_Terakowska_grob.jpg?width=300'/><br /><b>Lista jego/jej książek</b><li> Tam gdzie spadają anioły 1998 </li><h2>Autor</h2><li>Alfred Szklarski <img src='http://commons.wikimedia.org/wiki/Special:FilePath/Katowice_-_pomnik_Alfred_Szklarski.JPG?width=300'/><br /><b>Lista jego/jej książek</b><li> Tomek u źródeł Amazonki 1967 </li><li> Tomek w Gran Chaco 1987 </li><li> Tomek w grobowcach faraonów 1994 </li><h2>Autor</h2><li>Adam Zelga<br />Brak danych<h2>Autor</h2><li>Rafał A. Ziemkiewicz <img src='http://commons.wikimedia.org/wiki/Special:FilePath/Rafał_Ziemkiewicz.jpg?width=300'/><br /><b>Lista jego/jej książek</b><li> Walc stulecia 1998 </li><h2>Autor</h2><li>Anne Rice <img src='http://commons.wikimedia.org/wiki/Special:FilePath/Anne_Rice.jpg?width=300'/><br /><b>Lista jego/jej książek</b><li> Wampir Lestat 1985 </li><h2>Autor</h2><li>Aleksander Majkowski <img src='http://commons.wikimedia.org/wiki/Special:FilePath/POL_Polonia_Restituta_Oficerski_BAR.svg?width=300'/><br /><b>Lista jego/jej książek</b><li> Życie i przygody Remusa 1938 </li><h2>Autor</h2><li>Ian Fleming <img src='http://commons.wikimedia.org/wiki/Special:FilePath/For_Your_Eyes_Only.jpg?width=300'/><br /><b>Lista jego/jej książek</b><li> Casino Royale (powieść) 1953 </li><h2>Autor</h2><li>Gene Wolfe <img src='http://commons.wikimedia.org/wiki/Special:FilePath/Gene_Wolfe,_2005.png?width=300'/><br /><b>Lista jego/jej książek</b><li> Cień kata 1980 </li><h2>Autor</h2><li>Paulo Coelho <img src='http://commons.wikimedia.org/wiki/Special:FilePath/Paulo_Coelho_nrkbeta.jpg?width=300'/><br /><b>Lista jego/jej książek</b><li> Czarownica z Portobello 2006 </li><h2>Autor</h2><li>Tom Clancy <img src='http://commons.wikimedia.org/wiki/Special:FilePath/Tom_Clancy_at_Burns_Library_cropped.jpg?width=300'/><br /><b>Lista jego/jej książek</b><li> Czas patriotów (powieść) 1987 </li></li>"
      ],
      "text/plain": [
       "\"<h1>Lista autorów</h1><h2>Autor</h2><li>Juliusz Słowacki<br />Brak danych<h2>Autor</h2><li>Henryk Sienkiewicz<br /><b>Lista jego/jej książek</b><li> Krzyżacy (powieść) 1900 </li><li> Ogniem i mieczem 1884 </li><li> Quo vadis 1896 </li><h2>Autor</h2><li>Eliza Orzeszkowa<br /><b>Lista jego/jej książek</b><li> Nad Niemnem 1888 </li><h2>Autor</h2><li>Adam Mickiewicz<br /><b>Lista jego/jej książek</b><li> Księgi narodu polskiego i pielgrzymstwa polskiego 1832 </li><h2>Autor</h2><li>Orson Scott Card <img src='http://commons.wikimedia.org/wiki/Special:FilePath/Orson_Scott_Card_at_BYU_Symposium_20080216_closeup.jpg?width=300'/><br /><b>Lista jego/jej książek</b><li> Végjáték (regény)  </li><h2>Autor</h2><li>Andrzej Sapkowski <img src='http://commons.wikimedia.org/wiki/Special:FilePath/Sapkowski.jpg?width=300'/><br /><b>Lista jego/jej książek</b><li> Pani Jeziora (powieść) 1999 </li><h2>Autor</h2><li>Jack London <img src='http://commons.wikimedia.org/wiki/Special:FilePath/JackLondon02.jpeg?width=300'/><br /><b>Lista jego/jej książek</b><li> Bellew Zawierucha 1912 </li><h2>Autor</h2><li>Henning Mankell <img src='http://commons.wikimedia.org/wiki/Special:FilePath/Henning_Mankell_3_2011_Shankbone.jpg?width=300'/><br /><b>Lista jego/jej książek</b><li> Fałszywy trop (powieść) 1995 </li><h2>Autor</h2><li>Stanisław Lem <img src='http://commons.wikimedia.org/wiki/Special:FilePath/Stanislaw_Lem_2.jpg?width=300'/><br /><b>Lista jego/jej książek</b><li> Bajki robotów 1964 </li><li> Solaris (powieść) 1961 </li><li> Bezsenność (zbiór opowiadań) 1971 </li><li> Głos Pana 1968 </li><li> Inwazja z Aldebarana (zbiór opowiadań) 1959 </li><li> Katar (powieść) 1976 </li><li> Księga robotów 1961 </li><li> Maska (zbiór dzieł) 1976 </li><li> Niezwyciężony i inne opowiadania 1964 </li><li> Noc księżycowa 1963 </li><li> Pamiętnik znaleziony w wannie 1961 </li><li> Polowanie (zbiór opowiadań) 1965 </li><li> Powtórka (zbiór dzieł) 1979 </li><li> Pożytek ze smoka 1993 </li><li> Rasa drapieżców. Teksty ostatnie 2006 </li><li> Sezam i inne opowiadania 1954 </li><li> Summa technologiae 1964 </li><li> Wizja lokalna (powieść) 1982 </li><h2>Autor</h2><li>Antoni Gołubiew <img src='http://commons.wikimedia.org/wiki/Special:FilePath/Antoni_Golubiew.jpg?width=300'/><br /><b>Lista jego/jej książek</b><li> Bolesław Chrobry (powieść) 1947 </li><h2>Autor</h2><li>Mikołaj Kopernik <img src='http://commons.wikimedia.org/wiki/Special:FilePath/Nikolaus_Kopernikus.jpg?width=300'/><br /><b>Lista jego/jej książek</b><li> De revolutionibus orbium coelestium 1543 </li><h2>Autor</h2><li>Maria Franciszka Kozłowska <img src='http://commons.wikimedia.org/wiki/Special:FilePath/Mateczk_Kozłowska.JPG?width=300'/><br /><b>Lista jego/jej książek</b><li> Dzieło Wielkiego Miłosierdzia 1922 </li><h2>Autor</h2><li>George Orwell <img src='http://commons.wikimedia.org/wiki/Special:FilePath/GeoreOrwell.jpg?width=300'/><br /><b>Lista jego/jej książek</b><li> Folwark zwierzęcy 1945 </li><li> Droga na molo w Wigan 1937 </li><h2>Autor</h2><li>William Szekspir <img src='http://commons.wikimedia.org/wiki/Special:FilePath/Shakespeare.jpg?width=300'/><br /><b>Lista jego/jej książek</b><li> Hamlet  </li><li> Romeo i Julia 1597 </li><li> Sen nocy letniej 1600 </li><h2>Autor</h2><li>J. K. Rowling <img src='http://commons.wikimedia.org/wiki/Special:FilePath/J._K._Rowling_2010.jpg?width=300'/><br /><b>Lista jego/jej książek</b><li> Harry Potter 1997 </li><h2>Autor</h2><li>John Ronald Reuel Tolkien <img src='http://commons.wikimedia.org/wiki/Special:FilePath/Tolkien_1916.jpg?width=300'/><br /><b>Lista jego/jej książek</b><li> Hobbit, czyli tam i z powrotem 1937 </li><li> Silmarillion 1977 </li><li> Władca Pierścieni 1954 </li><h2>Autor</h2><li>Aleksander Dumas (ojciec) <img src='http://commons.wikimedia.org/wiki/Special:FilePath/Dumas_by_Nadar,_1855.jpg?width=300'/><br /><b>Lista jego/jej książek</b><li> Hrabia Monte Christo 1844 </li><h2>Autor</h2><li>Tadeusz Dołęga-Mostowicz <img src='http://commons.wikimedia.org/wiki/Special:FilePath/Tadeusz_Dolega-Mostowicz.jpg?width=300'/><br /><b>Lista jego/jej książek</b><li> Kariera Nikodema Dyzmy 1932 </li><h2>Autor</h2><li>Vladimir Nabokov <img src='http://commons.wikimedia.org/wiki/Special:FilePath/Monument_Nabokov_Montreux_23.12.2006.jpg?width=300'/><br /><b>Lista jego/jej książek</b><li> Lolita 1955 </li><h2>Autor</h2><li>Adolf Hitler <img src='http://commons.wikimedia.org/wiki/Special:FilePath/Hitler_portrait_crop.jpg?width=300'/><br /><b>Lista jego/jej książek</b><li> Mein Kampf 1925 </li><h2>Autor</h2><li>Christopher Tolkien<br /><b>Lista jego/jej książek</b><li> Niedokończone opowieści 1980 </li><h2>Autor</h2><li>Benedykt Chmielowski <img src='http://commons.wikimedia.org/wiki/Special:FilePath/POL_COA_Nałęcz.svg?width=300'/><br /><b>Lista jego/jej książek</b><li> Nowe Ateny 1745 </li><h2>Autor</h2><li>Aldous Huxley <img src='http://commons.wikimedia.org/wiki/Special:FilePath/Aldous_Huxley.JPG?width=300'/><br /><b>Lista jego/jej książek</b><li> Nowy wspaniały świat 1932 </li><h2>Autor</h2><li>Honoré de Balzac <img src='http://commons.wikimedia.org/wiki/Special:FilePath/HBalzac.jpg?width=300'/><br /><b>Lista jego/jej książek</b><li> Ojciec Goriot 1835 </li><h2>Autor</h2><li>Franz Kafka <img src='http://commons.wikimedia.org/wiki/Special:FilePath/Kafka1906.jpg?width=300'/><br /><b>Lista jego/jej książek</b><li> Proces (powieść) 1925 </li><h2>Autor</h2><li>Jan Kochanowski <img src='http://commons.wikimedia.org/wiki/Special:FilePath/Jan_Kochanowski.png?width=300'/><br /><b>Lista jego/jej książek</b><li> Psałterz Dawidów 1579 </li><h2>Autor</h2><li>Howard Phillips Lovecraft <img src='http://commons.wikimedia.org/wiki/Special:FilePath/Howard_Phillips_Lovecraft_in_1915.jpg?width=300'/><br /><b>Lista jego/jej książek</b><li> Zew Cthulhu (opowiadanie) 1928 </li><h2>Autor</h2><li>Karol Olgierd Borchardt <img src='http://commons.wikimedia.org/wiki/Special:FilePath/Karol_Olgierd_Borchardt's_house_in_Gdynia.jpg?width=300'/><br /><b>Lista jego/jej książek</b><li> Znaczy Kapitan 1960 </li><h2>Autor</h2><li>Lew Tołstoj <img src='http://commons.wikimedia.org/wiki/Special:FilePath/Ilya_Efimovich_Repin_(1844-1930)_-_Portrait_of_Leo_Tolstoy_(1887).jpg?width=300'/><br /><b>Lista jego/jej książek</b><li> Anna Karenina 1877 </li><li> Wojna i pokój 1865 </li><h2>Autor</h2><li>Boris Akunin <img src='http://commons.wikimedia.org/wiki/Special:FilePath/Boris_Akunin_2012.jpg?width=300'/><br /><b>Lista jego/jej książek</b><li> Azazel (powieść) 1998 </li><li> Dekorator 1998 </li><li> Diamentowa karoca 2003 </li><li> Gambit turecki 1998 </li><li> Kochanek Śmierci 2001 </li><li> Kochanka Śmierci 2001 </li><li> Koronacja (powieść) 1999 </li><li> Lewiatan (powieść) 1998 </li><li> Radca stanu (powieść) 1998 </li><li> Walet pikowy (powieść) 1998 </li><li> Śmierć Achillesa 1998 </li><h2>Autor</h2><li>Janusz Zajdel <img src='http://commons.wikimedia.org/wiki/Special:FilePath/Janusz_A_Zajdel.jpg?width=300'/><br /><b>Lista jego/jej książek</b><li> Cała prawda o planecie Ksi 1983 </li><h2>Autor</h2><li>Jan Paweł II <img src='http://commons.wikimedia.org/wiki/Special:FilePath/John_Paul_II_Medal_of_Freedom_2004.jpg?width=300'/><br /><b>Lista jego/jej książek</b><li> Dives in misericordia 1980 </li><li> Slavorum apostoli 1985 </li><li> Ut unum sint 1995 </li><li> Veritatis splendor 1993 </li><h2>Autor</h2><li>Isaac Asimov <img src='http://commons.wikimedia.org/wiki/Special:FilePath/Isaac.Asimov01.jpg?width=300'/><br /><b>Lista jego/jej książek</b><li> Druga Fundacja 1953 </li><li> Fundacja (powieść) 1951 </li><li> Fundacja i Imperium 1952 </li><li> Preludium Fundacji 1988 </li><h2>Autor</h2><li>Ilja Ilf <img src='http://commons.wikimedia.org/wiki/Special:FilePath/Ilya_Ilf.jpg?width=300'/><br /><b>Lista jego/jej książek</b><li> Dwanaście krzeseł 1928 </li><h2>Autor</h2><li>Jewgienij Pietrow (pisarz) <img src='http://commons.wikimedia.org/wiki/Special:FilePath/Yevgeny_Petrov.jpg?width=300'/><br />Brak danych<h2>Autor</h2><li>Gabriela Zapolska <img src='http://commons.wikimedia.org/wiki/Special:FilePath/Gabriela_Zapolska.PNG?width=300'/><br /><b>Lista jego/jej książek</b><li> Ich czworo 1907 </li><h2>Autor</h2><li>Jeffery Deaver <img src='http://commons.wikimedia.org/wiki/Special:FilePath/Jeffery_Deaver_October_2006.jpg?width=300'/><br /><b>Lista jego/jej książek</b><li> Kamienna małpa 2002 </li><li> Mag (powieść J. Deavera) 2003 </li><h2>Autor</h2><li>Terry Pratchett <img src='http://commons.wikimedia.org/wiki/Special:FilePath/Terry_Pratchett,_September_2009_1.jpg?width=300'/><br /><b>Lista jego/jej książek</b><li> Kot w stanie czystym 1989 </li><h2>Autor</h2><li>Clive Staples Lewis <img src='http://commons.wikimedia.org/wiki/Special:FilePath/Statue_of_C.S._Lewis,_Belfast.jpg?width=300'/><br /><b>Lista jego/jej książek</b><li> Koń i jego chłopiec 1954 </li><h2>Autor</h2><li>Andrzej Pilipiuk <img src='http://commons.wikimedia.org/wiki/Special:FilePath/Andrzej_Pilipiuk-Polcon2006.jpg?width=300'/><br /><b>Lista jego/jej książek</b><li> Kuzynki 2003 </li><h2>Autor</h2><li>Ursula K. Le Guin <img src='http://commons.wikimedia.org/wiki/Special:FilePath/UrsulaLeGuin.01.jpg?width=300'/><br /><b>Lista jego/jej książek</b><li> Lewa ręka ciemności 1969 </li><li> Czarnoksiężnik z Archipelagu 1968 </li><h2>Autor</h2><li>Iwan Turgieniew <img src='http://commons.wikimedia.org/wiki/Special:FilePath/Turgenev_by_Repin.jpg?width=300'/><br /><b>Lista jego/jej książek</b><li> Ojcowie i dzieci 0 </li><h2>Autor</h2><li>George R. R. Martin <img src='http://commons.wikimedia.org/wiki/Special:FilePath/George_R_R_Martin_2011_Shankbone.JPG?width=300'/><br /><b>Lista jego/jej książek</b><li> Pieśń Lodu i Ognia 1996 </li><h2>Autor</h2><li>Ryszard Kapuściński <img src='http://commons.wikimedia.org/wiki/Special:FilePath/Ryszard_Kapuscinski_by_Kubik_17.05.1997_-_cropped.jpg?width=300'/><br /><b>Lista jego/jej książek</b><li> Podróże z Herodotem 2004 </li><h2>Autor</h2><li>Lucy Maud Montgomery <img src='http://commons.wikimedia.org/wiki/Special:FilePath/Lucy_Maud_Montgomery.JPG?width=300'/><br /><b>Lista jego/jej książek</b><li> Rilla ze Złotego Brzegu 1921 </li><h2>Autor</h2><li>Dorota Terakowska <img src='http://commons.wikimedia.org/wiki/Special:FilePath/Dorota_Terakowska_grob.jpg?width=300'/><br /><b>Lista jego/jej książek</b><li> Tam gdzie spadają anioły 1998 </li><h2>Autor</h2><li>Alfred Szklarski <img src='http://commons.wikimedia.org/wiki/Special:FilePath/Katowice_-_pomnik_Alfred_Szklarski.JPG?width=300'/><br /><b>Lista jego/jej książek</b><li> Tomek u źródeł Amazonki 1967 </li><li> Tomek w Gran Chaco 1987 </li><li> Tomek w grobowcach faraonów 1994 </li><h2>Autor</h2><li>Adam Zelga<br />Brak danych<h2>Autor</h2><li>Rafał A. Ziemkiewicz <img src='http://commons.wikimedia.org/wiki/Special:FilePath/Rafał_Ziemkiewicz.jpg?width=300'/><br /><b>Lista jego/jej książek</b><li> Walc stulecia 1998 </li><h2>Autor</h2><li>Anne Rice <img src='http://commons.wikimedia.org/wiki/Special:FilePath/Anne_Rice.jpg?width=300'/><br /><b>Lista jego/jej książek</b><li> Wampir Lestat 1985 </li><h2>Autor</h2><li>Aleksander Majkowski <img src='http://commons.wikimedia.org/wiki/Special:FilePath/POL_Polonia_Restituta_Oficerski_BAR.svg?width=300'/><br /><b>Lista jego/jej książek</b><li> Życie i przygody Remusa 1938 </li><h2>Autor</h2><li>Ian Fleming <img src='http://commons.wikimedia.org/wiki/Special:FilePath/For_Your_Eyes_Only.jpg?width=300'/><br /><b>Lista jego/jej książek</b><li> Casino Royale (powieść) 1953 </li><h2>Autor</h2><li>Gene Wolfe <img src='http://commons.wikimedia.org/wiki/Special:FilePath/Gene_Wolfe,_2005.png?width=300'/><br /><b>Lista jego/jej książek</b><li> Cień kata 1980 </li><h2>Autor</h2><li>Paulo Coelho <img src='http://commons.wikimedia.org/wiki/Special:FilePath/Paulo_Coelho_nrkbeta.jpg?width=300'/><br /><b>Lista jego/jej książek</b><li> Czarownica z Portobello 2006 </li><h2>Autor</h2><li>Tom Clancy <img src='http://commons.wikimedia.org/wiki/Special:FilePath/Tom_Clancy_at_Burns_Library_cropped.jpg?width=300'/><br /><b>Lista jego/jej książek</b><li> Czas patriotów (powieść) 1987 </li></li>\""
      ]
     },
     "execution_count": 78,
     "metadata": {},
     "output_type": "execute_result"
    }
   ],
   "source": [
    "def display_authors()\n",
    "  html = \"<h1>Lista autorów</h1>\"\n",
    "  authors = Author.all\n",
    "  authors.each do |author|\n",
    "    html << \"<h2>Autor</h2>\"\n",
    "    html << \"<li>\"\n",
    "    html << \"#{author.name} #{author.surname}\"\n",
    "    if (author.image_url != nil)\n",
    "      html << \" <img src='#{author.image_url}'/>\"\n",
    "    end\n",
    "    html << \"<br />\"\n",
    "    if author.books.empty?\n",
    "      html << \"Brak danych\"\n",
    "    else\n",
    "     html << \"<b>Lista jego/jej książek</b>\"\n",
    "    end\n",
    "    author.books.each do |book|\n",
    "        html << \"<li> #{book.title} #{book.published} </li>\"\n",
    "    end\n",
    "  end\n",
    "  html << \"</li>\"\n",
    "end\n",
    "\n",
    "document = display_authors()\n",
    "IRuby.html document"
   ]
  }
 ],
 "metadata": {
  "kernelspec": {
   "display_name": "Ruby 2.2.3",
   "language": "ruby",
   "name": "ruby"
  },
  "language_info": {
   "file_extension": "rb",
   "mimetype": "application/x-ruby",
   "name": "ruby",
   "version": "2.2.3"
  }
 },
 "nbformat": 4,
 "nbformat_minor": 0
}
